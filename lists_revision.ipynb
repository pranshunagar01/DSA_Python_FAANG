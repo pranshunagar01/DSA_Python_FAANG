{
 "cells": [
  {
   "cell_type": "code",
   "execution_count": 7,
   "id": "43d2e0ba",
   "metadata": {},
   "outputs": [],
   "source": [
    "class SingleLinkedlist:\n",
    "    def __init__(self):\n",
    "        self.head = None\n",
    "    def showList(self):\n",
    "        key = self.head\n",
    "        while(key!=None):\n",
    "            print(key.value, end = '  ')\n",
    "            key=key.next\n",
    "    def addLast(self, value):\n",
    "        node = Node(value)\n",
    "        key = self.head\n",
    "        if self.head == None:\n",
    "            self.head = node\n",
    "            return\n",
    "        if key.next == None:\n",
    "            key.next = node\n",
    "            node.next = None\n",
    "            return\n",
    "        while(key.next != None):\n",
    "            key=key.next\n",
    "        key.next = node\n",
    "        \n",
    "class Node:\n",
    "    def __init__(self,value):\n",
    "        self.value = value\n",
    "        self.next = None\n",
    "    \n",
    "list = SingleLinkedlist()\n",
    "list.head = Node(1)"
   ]
  },
  {
   "cell_type": "code",
   "execution_count": 8,
   "id": "c4735178",
   "metadata": {},
   "outputs": [],
   "source": [
    "for i in [2,3,4,5,6]:\n",
    "    list.addLast(i)"
   ]
  },
  {
   "cell_type": "code",
   "execution_count": 9,
   "id": "68fea749",
   "metadata": {},
   "outputs": [
    {
     "name": "stdout",
     "output_type": "stream",
     "text": [
      "1  2  3  4  5  6  "
     ]
    }
   ],
   "source": [
    "list.showList()"
   ]
  },
  {
   "cell_type": "code",
   "execution_count": null,
   "id": "c5aa1dfb",
   "metadata": {},
   "outputs": [],
   "source": []
  }
 ],
 "metadata": {
  "kernelspec": {
   "display_name": "Python 3 (ipykernel)",
   "language": "python",
   "name": "python3"
  },
  "language_info": {
   "codemirror_mode": {
    "name": "ipython",
    "version": 3
   },
   "file_extension": ".py",
   "mimetype": "text/x-python",
   "name": "python",
   "nbconvert_exporter": "python",
   "pygments_lexer": "ipython3",
   "version": "3.9.7"
  }
 },
 "nbformat": 4,
 "nbformat_minor": 5
}
