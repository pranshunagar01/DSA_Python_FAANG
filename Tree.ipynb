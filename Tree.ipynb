{
 "cells": [
  {
   "cell_type": "code",
   "execution_count": 1,
   "id": "210fc092",
   "metadata": {},
   "outputs": [],
   "source": [
    "# Represents hierarchial data\n",
    "# Each node has two components : data and link to sub categories"
   ]
  },
  {
   "cell_type": "code",
   "execution_count": 2,
   "id": "11514139",
   "metadata": {},
   "outputs": [],
   "source": [
    "# Root - Node without a parent\n",
    "# Edge - Link between parent and children\n",
    "# Leaf - Node without children (last in sequence)\n",
    "# Sibling - children of same parent\n",
    "# Ancestors - Parents, grandparents, great grandparents and so on...\n",
    "# Depth of Node1 - Length of path from root node to Node1\n",
    "# Height of Node1 - Length of path from Node1 to Leaf\n",
    "# Depth of Tree - Depth of Root Node (is always zero)\n",
    "# Height of Tree - Length of path from deepest node (or leaf) to root node"
   ]
  },
  {
   "cell_type": "code",
   "execution_count": 35,
   "id": "4906a2d1",
   "metadata": {},
   "outputs": [],
   "source": [
    "class Tree:\n",
    "    def __init__(self, data, children):\n",
    "        self.data=data\n",
    "        self.children=children\n",
    "        \n",
    "    def showTree(self):\n",
    "        print(self.data)\n",
    "        for i in self.children:\n",
    "            print(i.data, end='  ')\n",
    "            \n",
    "    def addChild(self, child):\n",
    "        self.children.append"
   ]
  },
  {
   "cell_type": "code",
   "execution_count": 36,
   "id": "0f9ffb3f",
   "metadata": {},
   "outputs": [],
   "source": [
    "tree = Tree(\"Drinks\", [])\n",
    "tree1 = Tree(\"Cold Drink\", [])\n",
    "tree2 = Tree(\"Hot Drink\", [])"
   ]
  },
  {
   "cell_type": "code",
   "execution_count": 37,
   "id": "1fc0c057",
   "metadata": {},
   "outputs": [],
   "source": [
    "tree.addChild(tree1)\n",
    "tree.addChild(tree2)"
   ]
  },
  {
   "cell_type": "code",
   "execution_count": 38,
   "id": "50ca6b57",
   "metadata": {},
   "outputs": [
    {
     "name": "stdout",
     "output_type": "stream",
     "text": [
      "Drinks\n"
     ]
    }
   ],
   "source": [
    "tree.showTree()"
   ]
  },
  {
   "cell_type": "code",
   "execution_count": 39,
   "id": "7da49b63",
   "metadata": {},
   "outputs": [],
   "source": [
    "tree1.addChild(Tree(\"Coke\", []))\n",
    "tree1.addChild(Tree(\"Pepsi\",[]))\n",
    "tree2.addChild(Tree(\"Coffee\", []))\n",
    "tree2.addChild(Tree(\"Milk\", []))"
   ]
  },
  {
   "cell_type": "code",
   "execution_count": 40,
   "id": "f543dea0",
   "metadata": {},
   "outputs": [
    {
     "name": "stdout",
     "output_type": "stream",
     "text": [
      "Hot Drink\n"
     ]
    }
   ],
   "source": [
    "tree2.showTree()"
   ]
  },
  {
   "cell_type": "code",
   "execution_count": null,
   "id": "41352c39",
   "metadata": {},
   "outputs": [],
   "source": []
  }
 ],
 "metadata": {
  "kernelspec": {
   "display_name": "Python 3 (ipykernel)",
   "language": "python",
   "name": "python3"
  },
  "language_info": {
   "codemirror_mode": {
    "name": "ipython",
    "version": 3
   },
   "file_extension": ".py",
   "mimetype": "text/x-python",
   "name": "python",
   "nbconvert_exporter": "python",
   "pygments_lexer": "ipython3",
   "version": "3.9.7"
  }
 },
 "nbformat": 4,
 "nbformat_minor": 5
}
