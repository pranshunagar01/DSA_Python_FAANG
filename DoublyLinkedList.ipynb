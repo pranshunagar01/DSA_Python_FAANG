{
 "cells": [
  {
   "cell_type": "code",
   "execution_count": 60,
   "id": "b426e314",
   "metadata": {},
   "outputs": [],
   "source": [
    "class DoublyLinkedList:\n",
    "    def __init__(self):\n",
    "        self.head = None\n",
    "        self.tail = None\n",
    "    def show(self):\n",
    "        key = self.head\n",
    "        while(key!= None):\n",
    "            print(key.value)\n",
    "            key = key.next\n",
    "    def addFirst(self, value):\n",
    "        node = Node(value)\n",
    "        node.next = self.head\n",
    "        self.head.previous = node\n",
    "        self.head = node\n",
    "        self.show()\n",
    "    def addLast(self, value):\n",
    "        node = Node(value)\n",
    "        self.tail.next = node\n",
    "        node.previous = self.tail\n",
    "        self.tail = node\n",
    "        self.show()\n",
    "    def addN(self, value, location):\n",
    "        node = Node(value)\n",
    "        key = self.head\n",
    "        for i in range(location-1):\n",
    "            key = key.next\n",
    "        node.next = key.next\n",
    "        node.previous = key\n",
    "        key.next = node\n",
    "        self.show()\n",
    "    def deleteFirst(self):\n",
    "        self.head.next.previous = None\n",
    "        self.head = self.head.next\n",
    "        self.show()\n",
    "    def deleteLast(self):\n",
    "        self.tail.previous.next = None\n",
    "        self.tail = self.tail.previous\n",
    "        self.show()\n",
    "\n",
    "class Node:\n",
    "    def __init__(self, value):\n",
    "        self.previous = None\n",
    "        self.value = value\n",
    "        self.next = None\n",
    "    \n",
    "list = DoublyLinkedList()\n",
    "node1 = Node(1)\n",
    "node2 = Node(2)"
   ]
  },
  {
   "cell_type": "code",
   "execution_count": 61,
   "id": "ef87a6fe",
   "metadata": {},
   "outputs": [],
   "source": [
    "list.head = node1\n",
    "list.tail = node2\n",
    "list.head.next = node2\n",
    "list.tail.previous = node1"
   ]
  },
  {
   "cell_type": "code",
   "execution_count": 62,
   "id": "d3bce972",
   "metadata": {},
   "outputs": [
    {
     "name": "stdout",
     "output_type": "stream",
     "text": [
      "1\n",
      "2\n"
     ]
    }
   ],
   "source": [
    "list.show()"
   ]
  },
  {
   "cell_type": "code",
   "execution_count": 64,
   "id": "9b4e7931",
   "metadata": {},
   "outputs": [
    {
     "name": "stdout",
     "output_type": "stream",
     "text": [
      "1\n",
      "2\n",
      "3\n",
      "1\n",
      "2\n",
      "3\n",
      "4\n",
      "1\n",
      "2\n",
      "3\n",
      "4\n",
      "5\n",
      "1\n",
      "2\n",
      "3\n",
      "4\n",
      "5\n",
      "6\n",
      "1\n",
      "2\n",
      "3\n",
      "4\n",
      "5\n",
      "6\n",
      "7\n",
      "1\n",
      "2\n",
      "3\n",
      "4\n",
      "5\n",
      "6\n",
      "7\n",
      "8\n",
      "1\n",
      "2\n",
      "3\n",
      "4\n",
      "5\n",
      "6\n",
      "7\n",
      "8\n",
      "9\n",
      "1\n",
      "2\n",
      "3\n",
      "4\n",
      "5\n",
      "6\n",
      "7\n",
      "8\n",
      "9\n",
      "10\n"
     ]
    }
   ],
   "source": [
    "for i in range(3,11):\n",
    "    list.addLast(i)"
   ]
  },
  {
   "cell_type": "code",
   "execution_count": 65,
   "id": "08bf8470",
   "metadata": {},
   "outputs": [
    {
     "name": "stdout",
     "output_type": "stream",
     "text": [
      "1\n",
      "2\n",
      "3\n",
      "4\n",
      "5\n",
      "6\n",
      "7\n",
      "8\n",
      "9\n",
      "10\n"
     ]
    }
   ],
   "source": [
    "list.show()"
   ]
  },
  {
   "cell_type": "code",
   "execution_count": 66,
   "id": "40fc8b72",
   "metadata": {},
   "outputs": [
    {
     "name": "stdout",
     "output_type": "stream",
     "text": [
      "1\n",
      "2\n",
      "3\n",
      "4\n",
      "5\n",
      "6\n",
      "7\n",
      "8\n",
      "9\n",
      "1\n",
      "2\n",
      "3\n",
      "4\n",
      "5\n",
      "6\n",
      "7\n",
      "8\n",
      "1\n",
      "2\n",
      "3\n",
      "4\n",
      "5\n",
      "6\n",
      "7\n",
      "1\n",
      "2\n",
      "3\n",
      "4\n",
      "5\n",
      "6\n",
      "1\n",
      "2\n",
      "3\n",
      "4\n",
      "5\n"
     ]
    }
   ],
   "source": [
    "for i in range(5):\n",
    "    list.deleteLast()"
   ]
  },
  {
   "cell_type": "code",
   "execution_count": 67,
   "id": "223cce89",
   "metadata": {},
   "outputs": [
    {
     "name": "stdout",
     "output_type": "stream",
     "text": [
      "1\n",
      "2\n",
      "3\n",
      "4\n",
      "5\n"
     ]
    }
   ],
   "source": [
    "list.show()"
   ]
  },
  {
   "cell_type": "code",
   "execution_count": null,
   "id": "a76f83bb",
   "metadata": {},
   "outputs": [],
   "source": []
  }
 ],
 "metadata": {
  "kernelspec": {
   "display_name": "Python 3 (ipykernel)",
   "language": "python",
   "name": "python3"
  },
  "language_info": {
   "codemirror_mode": {
    "name": "ipython",
    "version": 3
   },
   "file_extension": ".py",
   "mimetype": "text/x-python",
   "name": "python",
   "nbconvert_exporter": "python",
   "pygments_lexer": "ipython3",
   "version": "3.9.7"
  }
 },
 "nbformat": 4,
 "nbformat_minor": 5
}
