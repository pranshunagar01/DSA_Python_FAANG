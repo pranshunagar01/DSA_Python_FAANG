{
 "cells": [
  {
   "cell_type": "code",
   "execution_count": 1,
   "id": "4cb217e5",
   "metadata": {},
   "outputs": [],
   "source": [
    "list1 = [\"Hello\", 1, 2, 4.5]"
   ]
  },
  {
   "cell_type": "code",
   "execution_count": 2,
   "id": "7a3e9ffb",
   "metadata": {},
   "outputs": [
    {
     "name": "stdout",
     "output_type": "stream",
     "text": [
      "<class 'str'>\n",
      "<class 'int'>\n",
      "<class 'int'>\n",
      "<class 'float'>\n"
     ]
    }
   ],
   "source": [
    "for i in list1:\n",
    "    print(type(i))"
   ]
  },
  {
   "cell_type": "code",
   "execution_count": 3,
   "id": "7a766fe1",
   "metadata": {},
   "outputs": [
    {
     "name": "stdout",
     "output_type": "stream",
     "text": [
      "Hello\n",
      "1\n",
      "2\n",
      "4.5\n"
     ]
    }
   ],
   "source": [
    "for i in range(len(list1)):\n",
    "    print(list1[i])"
   ]
  },
  {
   "cell_type": "code",
   "execution_count": 4,
   "id": "f5a28503",
   "metadata": {},
   "outputs": [],
   "source": [
    "list1 = [1,2,3]\n",
    "list2 = [\"Number1\", \"Number2\", \"Number3\"]"
   ]
  },
  {
   "cell_type": "code",
   "execution_count": 5,
   "id": "b9db11fc",
   "metadata": {},
   "outputs": [],
   "source": [
    "list3 = []\n",
    "for i in range(len(list1)):\n",
    "    list3.append(list1[i])\n",
    "    list3.append(list2[i])"
   ]
  },
  {
   "cell_type": "code",
   "execution_count": 9,
   "id": "584ff2a4",
   "metadata": {},
   "outputs": [],
   "source": [
    "list3\n",
    "list4 = []"
   ]
  },
  {
   "cell_type": "code",
   "execution_count": 10,
   "id": "b82cbec1",
   "metadata": {},
   "outputs": [],
   "source": [
    "for i in range(0,len(list3), 2):\n",
    "    list4.append(str(str(list3[i])+\"  \"+str(list3[i+1])))"
   ]
  },
  {
   "cell_type": "code",
   "execution_count": 11,
   "id": "b8c87fa8",
   "metadata": {},
   "outputs": [
    {
     "data": {
      "text/plain": [
       "['1  Number1', '2  Number2', '3  Number3']"
      ]
     },
     "execution_count": 11,
     "metadata": {},
     "output_type": "execute_result"
    }
   ],
   "source": [
    "list4"
   ]
  },
  {
   "cell_type": "code",
   "execution_count": 12,
   "id": "b69694e6",
   "metadata": {},
   "outputs": [
    {
     "data": {
      "text/plain": [
       "['1  Number1', '2  Number2', '3  Number3']"
      ]
     },
     "execution_count": 12,
     "metadata": {},
     "output_type": "execute_result"
    }
   ],
   "source": [
    "list4[:3]"
   ]
  },
  {
   "cell_type": "code",
   "execution_count": 13,
   "id": "d4c6c720",
   "metadata": {},
   "outputs": [
    {
     "data": {
      "text/plain": [
       "'3  Number3'"
      ]
     },
     "execution_count": 13,
     "metadata": {},
     "output_type": "execute_result"
    }
   ],
   "source": [
    "list4.pop()"
   ]
  },
  {
   "cell_type": "code",
   "execution_count": 14,
   "id": "c820f530",
   "metadata": {},
   "outputs": [
    {
     "data": {
      "text/plain": [
       "['1  Number1', '2  Number2']"
      ]
     },
     "execution_count": 14,
     "metadata": {},
     "output_type": "execute_result"
    }
   ],
   "source": [
    "list4"
   ]
  },
  {
   "cell_type": "code",
   "execution_count": 16,
   "id": "a66de02f",
   "metadata": {},
   "outputs": [],
   "source": [
    "list4.append('3 Number3 Appended')"
   ]
  },
  {
   "cell_type": "code",
   "execution_count": 18,
   "id": "5ccc0932",
   "metadata": {},
   "outputs": [
    {
     "data": {
      "text/plain": [
       "['1  Number1', '2  Number2', '3 Number3 Appended']"
      ]
     },
     "execution_count": 18,
     "metadata": {},
     "output_type": "execute_result"
    }
   ],
   "source": [
    "list4"
   ]
  },
  {
   "cell_type": "code",
   "execution_count": 19,
   "id": "490cc88f",
   "metadata": {},
   "outputs": [],
   "source": [
    "list4.remove(list4[0])"
   ]
  },
  {
   "cell_type": "code",
   "execution_count": 20,
   "id": "5e4cf47e",
   "metadata": {},
   "outputs": [
    {
     "data": {
      "text/plain": [
       "['2  Number2', '3 Number3 Appended']"
      ]
     },
     "execution_count": 20,
     "metadata": {},
     "output_type": "execute_result"
    }
   ],
   "source": [
    "list4"
   ]
  },
  {
   "cell_type": "code",
   "execution_count": 21,
   "id": "954a43eb",
   "metadata": {},
   "outputs": [],
   "source": [
    "list4.sort()"
   ]
  },
  {
   "cell_type": "code",
   "execution_count": 22,
   "id": "a0fbaa3d",
   "metadata": {},
   "outputs": [],
   "source": [
    "list4.reverse()"
   ]
  },
  {
   "cell_type": "code",
   "execution_count": 23,
   "id": "e30befe1",
   "metadata": {},
   "outputs": [
    {
     "data": {
      "text/plain": [
       "['3 Number3 Appended', '2  Number2']"
      ]
     },
     "execution_count": 23,
     "metadata": {},
     "output_type": "execute_result"
    }
   ],
   "source": [
    "list4"
   ]
  },
  {
   "cell_type": "code",
   "execution_count": 24,
   "id": "b25d659f",
   "metadata": {},
   "outputs": [],
   "source": [
    "list4.sort()"
   ]
  },
  {
   "cell_type": "code",
   "execution_count": 25,
   "id": "4e5d9e8e",
   "metadata": {},
   "outputs": [
    {
     "data": {
      "text/plain": [
       "['2  Number2', '3 Number3 Appended']"
      ]
     },
     "execution_count": 25,
     "metadata": {},
     "output_type": "execute_result"
    }
   ],
   "source": [
    "list4"
   ]
  },
  {
   "cell_type": "code",
   "execution_count": 26,
   "id": "c4dbdab3",
   "metadata": {},
   "outputs": [],
   "source": [
    "list1 = [1,2,334,4,4,5,6,5,3,2,45,6,3,5,3,53,5,3,5,43,5,3,54]"
   ]
  },
  {
   "cell_type": "code",
   "execution_count": 27,
   "id": "e5514935",
   "metadata": {},
   "outputs": [
    {
     "data": {
      "text/plain": [
       "6"
      ]
     },
     "execution_count": 27,
     "metadata": {},
     "output_type": "execute_result"
    }
   ],
   "source": [
    "list1.count(5)"
   ]
  },
  {
   "cell_type": "code",
   "execution_count": 28,
   "id": "f3c42d85",
   "metadata": {},
   "outputs": [],
   "source": [
    "list2 = list1.copy()"
   ]
  },
  {
   "cell_type": "code",
   "execution_count": 29,
   "id": "465e9e40",
   "metadata": {},
   "outputs": [
    {
     "data": {
      "text/plain": [
       "[1, 2, 334, 4, 4, 5, 6, 5, 3, 2, 45, 6, 3, 5, 3, 53, 5, 3, 5, 43, 5, 3, 54]"
      ]
     },
     "execution_count": 29,
     "metadata": {},
     "output_type": "execute_result"
    }
   ],
   "source": [
    "list2"
   ]
  },
  {
   "cell_type": "code",
   "execution_count": 30,
   "id": "f89ad05e",
   "metadata": {},
   "outputs": [
    {
     "data": {
      "text/plain": [
       "True"
      ]
     },
     "execution_count": 30,
     "metadata": {},
     "output_type": "execute_result"
    }
   ],
   "source": [
    "list1 == list2"
   ]
  },
  {
   "cell_type": "code",
   "execution_count": 34,
   "id": "3d98b17c",
   "metadata": {},
   "outputs": [
    {
     "data": {
      "text/plain": [
       "True"
      ]
     },
     "execution_count": 34,
     "metadata": {},
     "output_type": "execute_result"
    }
   ],
   "source": [
    "type(list1) == type(list2)"
   ]
  },
  {
   "cell_type": "code",
   "execution_count": 32,
   "id": "206e1997",
   "metadata": {},
   "outputs": [],
   "source": [
    "list2[5] = str(list2)"
   ]
  },
  {
   "cell_type": "code",
   "execution_count": 33,
   "id": "dfc66544",
   "metadata": {},
   "outputs": [
    {
     "data": {
      "text/plain": [
       "False"
      ]
     },
     "execution_count": 33,
     "metadata": {},
     "output_type": "execute_result"
    }
   ],
   "source": [
    "list1 == list2"
   ]
  },
  {
   "cell_type": "code",
   "execution_count": 35,
   "id": "55688884",
   "metadata": {},
   "outputs": [
    {
     "data": {
      "text/plain": [
       "True"
      ]
     },
     "execution_count": 35,
     "metadata": {},
     "output_type": "execute_result"
    }
   ],
   "source": [
    "5 in list2"
   ]
  },
  {
   "cell_type": "code",
   "execution_count": 42,
   "id": "d6357ade",
   "metadata": {},
   "outputs": [
    {
     "data": {
      "text/plain": [
       "[1, 2, 334, 4, 4, 5, 6, 5, 3, 2, 45, 6, 3, 5, 3, 53, 5, 3, 5, 43, 5, 3, 54]"
      ]
     },
     "execution_count": 42,
     "metadata": {},
     "output_type": "execute_result"
    }
   ],
   "source": [
    "list1"
   ]
  },
  {
   "cell_type": "code",
   "execution_count": 43,
   "id": "3ab6023e",
   "metadata": {},
   "outputs": [
    {
     "data": {
      "text/plain": [
       "[1, 2, 334, 4, 4]"
      ]
     },
     "execution_count": 43,
     "metadata": {},
     "output_type": "execute_result"
    }
   ],
   "source": [
    "list1[:5]"
   ]
  },
  {
   "cell_type": "code",
   "execution_count": 44,
   "id": "bf06ef5a",
   "metadata": {},
   "outputs": [
    {
     "data": {
      "text/plain": [
       "[1, 2, 334, 4, 4, 5, 6, 5, 3, 2, 45, 6, 3, 5, 3, 53, 5, 3, 5, 43, 5]"
      ]
     },
     "execution_count": 44,
     "metadata": {},
     "output_type": "execute_result"
    }
   ],
   "source": [
    "list1[:-2]"
   ]
  },
  {
   "cell_type": "code",
   "execution_count": 46,
   "id": "841814f1",
   "metadata": {},
   "outputs": [
    {
     "data": {
      "text/plain": [
       "[5, 4, 4, 334]"
      ]
     },
     "execution_count": 46,
     "metadata": {},
     "output_type": "execute_result"
    }
   ],
   "source": [
    "list1[5:1:-1]"
   ]
  },
  {
   "cell_type": "code",
   "execution_count": 48,
   "id": "872f53ad",
   "metadata": {},
   "outputs": [],
   "source": [
    "listNew = [i for i in \"Hello\"]"
   ]
  },
  {
   "cell_type": "code",
   "execution_count": 49,
   "id": "4c47b2fb",
   "metadata": {},
   "outputs": [
    {
     "data": {
      "text/plain": [
       "['H', 'e', 'l', 'l', 'o']"
      ]
     },
     "execution_count": 49,
     "metadata": {},
     "output_type": "execute_result"
    }
   ],
   "source": [
    "listNew"
   ]
  },
  {
   "cell_type": "code",
   "execution_count": 78,
   "id": "b5aa3ecf",
   "metadata": {},
   "outputs": [],
   "source": [
    "list = (\"Hey how are you doing ?\").split(' ')"
   ]
  },
  {
   "cell_type": "code",
   "execution_count": 79,
   "id": "4cc8c06e",
   "metadata": {},
   "outputs": [
    {
     "data": {
      "text/plain": [
       "['Hey', 'how', 'are', 'you', 'doing', '?']"
      ]
     },
     "execution_count": 79,
     "metadata": {},
     "output_type": "execute_result"
    }
   ],
   "source": [
    "list"
   ]
  },
  {
   "cell_type": "code",
   "execution_count": 76,
   "id": "92561525",
   "metadata": {},
   "outputs": [],
   "source": [
    "if 'Hey' in list:\n",
    "    print(True)"
   ]
  },
  {
   "cell_type": "code",
   "execution_count": 68,
   "id": "27868e4f",
   "metadata": {},
   "outputs": [
    {
     "data": {
      "text/plain": [
       "[1, 2, 3, 4, 5, 6]"
      ]
     },
     "execution_count": 68,
     "metadata": {},
     "output_type": "execute_result"
    }
   ],
   "source": [
    "[1,2,3]+[4,5,6]"
   ]
  },
  {
   "cell_type": "code",
   "execution_count": 69,
   "id": "c837c2b9",
   "metadata": {},
   "outputs": [
    {
     "data": {
      "text/plain": [
       "[1, 2, 3, 1, 2, 3, 1, 2, 3, 1, 2, 3]"
      ]
     },
     "execution_count": 69,
     "metadata": {},
     "output_type": "execute_result"
    }
   ],
   "source": [
    "[1,2,3]*4"
   ]
  },
  {
   "cell_type": "code",
   "execution_count": 80,
   "id": "8769e15e",
   "metadata": {},
   "outputs": [
    {
     "data": {
      "text/plain": [
       "['Hey', 'how', 'are', 'you', 'doing', '?']"
      ]
     },
     "execution_count": 80,
     "metadata": {},
     "output_type": "execute_result"
    }
   ],
   "source": [
    "list"
   ]
  },
  {
   "cell_type": "code",
   "execution_count": 84,
   "id": "ab5e10c5",
   "metadata": {},
   "outputs": [],
   "source": [
    "list1 = [1,2,3,4,5,6,7]"
   ]
  },
  {
   "cell_type": "code",
   "execution_count": 85,
   "id": "be2f277d",
   "metadata": {},
   "outputs": [
    {
     "data": {
      "text/plain": [
       "1"
      ]
     },
     "execution_count": 85,
     "metadata": {},
     "output_type": "execute_result"
    }
   ],
   "source": [
    "min(list1)"
   ]
  },
  {
   "cell_type": "code",
   "execution_count": 86,
   "id": "c49101ca",
   "metadata": {},
   "outputs": [
    {
     "data": {
      "text/plain": [
       "7"
      ]
     },
     "execution_count": 86,
     "metadata": {},
     "output_type": "execute_result"
    }
   ],
   "source": [
    "max(list1)"
   ]
  },
  {
   "cell_type": "code",
   "execution_count": 87,
   "id": "d91137b4",
   "metadata": {},
   "outputs": [
    {
     "data": {
      "text/plain": [
       "28"
      ]
     },
     "execution_count": 87,
     "metadata": {},
     "output_type": "execute_result"
    }
   ],
   "source": [
    "sum(list1)"
   ]
  },
  {
   "cell_type": "code",
   "execution_count": 89,
   "id": "f5d56ec8",
   "metadata": {},
   "outputs": [
    {
     "name": "stdout",
     "output_type": "stream",
     "text": [
      "Enter number: 1\n",
      "Enter number: 2\n",
      "Enter number: 3\n",
      "Enter number: 4\n",
      "Enter number: 5\n",
      "Enter number: 6\n",
      "Enter number: 7\n",
      "Enter number: 8\n",
      "Enter number: 9\n",
      "Enter number: done\n",
      "5.0\n"
     ]
    }
   ],
   "source": [
    "list1 = []\n",
    "while(True):\n",
    "    inp = input(\"Enter number: \")\n",
    "    if inp == 'done': break\n",
    "    list1.append(int(inp))\n",
    "print(sum(list1)/len(list1))"
   ]
  },
  {
   "cell_type": "code",
   "execution_count": 90,
   "id": "eee4a5df",
   "metadata": {},
   "outputs": [],
   "source": [
    "list1 = (\"H e l l o\").split(' ')"
   ]
  },
  {
   "cell_type": "code",
   "execution_count": 91,
   "id": "5890b548",
   "metadata": {},
   "outputs": [
    {
     "data": {
      "text/plain": [
       "['H', 'e', 'l', 'l', 'o']"
      ]
     },
     "execution_count": 91,
     "metadata": {},
     "output_type": "execute_result"
    }
   ],
   "source": [
    "list1"
   ]
  },
  {
   "cell_type": "code",
   "execution_count": 98,
   "id": "68ad525e",
   "metadata": {},
   "outputs": [],
   "source": [
    "a = \"Hello-hello-hello\"\n",
    "list2 = a.split('-')"
   ]
  },
  {
   "cell_type": "code",
   "execution_count": 99,
   "id": "81e8f75c",
   "metadata": {},
   "outputs": [
    {
     "data": {
      "text/plain": [
       "['Hello', 'hello', 'hello']"
      ]
     },
     "execution_count": 99,
     "metadata": {},
     "output_type": "execute_result"
    }
   ],
   "source": [
    "list2"
   ]
  },
  {
   "cell_type": "code",
   "execution_count": 100,
   "id": "ad022da8",
   "metadata": {},
   "outputs": [],
   "source": [
    "list3 = '-'.join(list2)"
   ]
  },
  {
   "cell_type": "code",
   "execution_count": 101,
   "id": "9d521795",
   "metadata": {},
   "outputs": [
    {
     "data": {
      "text/plain": [
       "'Hello-hello-hello'"
      ]
     },
     "execution_count": 101,
     "metadata": {},
     "output_type": "execute_result"
    }
   ],
   "source": [
    "list3"
   ]
  },
  {
   "cell_type": "code",
   "execution_count": 104,
   "id": "cd69d7fa",
   "metadata": {},
   "outputs": [],
   "source": [
    "list1 = [1,2,3,4,5]"
   ]
  },
  {
   "cell_type": "code",
   "execution_count": 105,
   "id": "f3bbe980",
   "metadata": {},
   "outputs": [],
   "source": [
    "list1.reverse()"
   ]
  },
  {
   "cell_type": "code",
   "execution_count": 106,
   "id": "b3c61845",
   "metadata": {},
   "outputs": [
    {
     "data": {
      "text/plain": [
       "[5, 4, 3, 2, 1]"
      ]
     },
     "execution_count": 106,
     "metadata": {},
     "output_type": "execute_result"
    }
   ],
   "source": [
    "list1"
   ]
  },
  {
   "cell_type": "code",
   "execution_count": 107,
   "id": "798d06d6",
   "metadata": {},
   "outputs": [],
   "source": [
    "list1.sort()"
   ]
  },
  {
   "cell_type": "code",
   "execution_count": 108,
   "id": "7efda98a",
   "metadata": {},
   "outputs": [
    {
     "data": {
      "text/plain": [
       "[1, 2, 3, 4, 5]"
      ]
     },
     "execution_count": 108,
     "metadata": {},
     "output_type": "execute_result"
    }
   ],
   "source": [
    "list1"
   ]
  },
  {
   "cell_type": "code",
   "execution_count": null,
   "id": "255b80c5",
   "metadata": {},
   "outputs": [],
   "source": []
  }
 ],
 "metadata": {
  "kernelspec": {
   "display_name": "Python 3 (ipykernel)",
   "language": "python",
   "name": "python3"
  },
  "language_info": {
   "codemirror_mode": {
    "name": "ipython",
    "version": 3
   },
   "file_extension": ".py",
   "mimetype": "text/x-python",
   "name": "python",
   "nbconvert_exporter": "python",
   "pygments_lexer": "ipython3",
   "version": "3.9.7"
  }
 },
 "nbformat": 4,
 "nbformat_minor": 5
}
