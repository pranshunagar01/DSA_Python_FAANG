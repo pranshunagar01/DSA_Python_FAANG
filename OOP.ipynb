{
 "cells": [
  {
   "cell_type": "code",
   "execution_count": 1,
   "id": "2172141e",
   "metadata": {},
   "outputs": [],
   "source": [
    "# Defining  a class"
   ]
  },
  {
   "cell_type": "code",
   "execution_count": 12,
   "id": "a7bead63",
   "metadata": {},
   "outputs": [],
   "source": [
    "class Computer:\n",
    "    # Method\n",
    "    def config(self):\n",
    "        print(\"i5, 16gb, 1TB\")"
   ]
  },
  {
   "cell_type": "code",
   "execution_count": 13,
   "id": "51eea50f",
   "metadata": {},
   "outputs": [],
   "source": [
    "com1 = Computer()"
   ]
  },
  {
   "cell_type": "code",
   "execution_count": 17,
   "id": "b165af70",
   "metadata": {},
   "outputs": [
    {
     "name": "stdout",
     "output_type": "stream",
     "text": [
      "i5, 16gb, 1TB\n"
     ]
    }
   ],
   "source": [
    "com1.config()"
   ]
  },
  {
   "cell_type": "code",
   "execution_count": 15,
   "id": "261a3001",
   "metadata": {},
   "outputs": [
    {
     "name": "stdout",
     "output_type": "stream",
     "text": [
      "i5, 16gb, 1TB\n"
     ]
    }
   ],
   "source": [
    "Computer.config(com1)"
   ]
  },
  {
   "cell_type": "code",
   "execution_count": 18,
   "id": "b161ce14",
   "metadata": {},
   "outputs": [],
   "source": [
    "# __init__ method"
   ]
  },
  {
   "cell_type": "code",
   "execution_count": 19,
   "id": "bf450bd5",
   "metadata": {},
   "outputs": [],
   "source": [
    "class Laptop:\n",
    "    # Constructor\n",
    "    def __init__(self, cpu, ram, storage):\n",
    "        self.cpu = cpu\n",
    "        self.ram = ram\n",
    "        self.storage = storage\n",
    "    # Methods\n",
    "    def config(self):\n",
    "        print(\"CPU - \"+self.cpu+\"\\nRAM - \"+self.ram+\"\\nStorage - \"+self.storage+\"\")\n",
    "        \n",
    "    "
   ]
  },
  {
   "cell_type": "code",
   "execution_count": 20,
   "id": "ce30fd3b",
   "metadata": {},
   "outputs": [],
   "source": [
    "legion = Laptop(\"i5\", \"16 GB\", \"1 TB\")"
   ]
  },
  {
   "cell_type": "code",
   "execution_count": 21,
   "id": "fb196dc9",
   "metadata": {},
   "outputs": [
    {
     "name": "stdout",
     "output_type": "stream",
     "text": [
      "CPU - i5\n",
      "RAM - 16 GB\n",
      "Storage - 1 TB\n"
     ]
    }
   ],
   "source": [
    "legion.config()"
   ]
  },
  {
   "cell_type": "code",
   "execution_count": 22,
   "id": "ece38e80",
   "metadata": {},
   "outputs": [],
   "source": [
    " # In OOP in python, constructor and all methods take self as a parameter"
   ]
  },
  {
   "cell_type": "code",
   "execution_count": null,
   "id": "934c830c",
   "metadata": {},
   "outputs": [],
   "source": []
  },
  {
   "cell_type": "code",
   "execution_count": 23,
   "id": "7cae7355",
   "metadata": {},
   "outputs": [],
   "source": [
    "# Practice time :)"
   ]
  },
  {
   "cell_type": "code",
   "execution_count": 26,
   "id": "65b9fc6e",
   "metadata": {},
   "outputs": [],
   "source": [
    "class Car:\n",
    "    def __init__(self, model, make, mileage, distance, fueltype):\n",
    "        self.model = model\n",
    "        self.make = make\n",
    "        self.mileage = mileage\n",
    "        self.distance = distance\n",
    "        self.fueltype = fueltype\n",
    "    def details(self):\n",
    "        print(\"Model : \"+self.model)\n",
    "        print(\"Make : \"+str(self.make))\n",
    "        print(\"Mileage : \"+str(self.mileage))\n",
    "        print(\"Distance driven : \"+str(self.distance))\n",
    "        print(\"Fueltype : \"+str(self.fueltype))\n",
    "    def moredetails(self):\n",
    "        if(self.mileage < 20):\n",
    "            print(\"Eww, poor mileage\")\n",
    "        else:\n",
    "            print(\"Great mileage\")\n",
    "        if self.distance > 100000:\n",
    "            print(\"Sheyyt, you drova a lot\")\n",
    "        else:\n",
    "            print(\"Nice, the car has not been driven much\")"
   ]
  },
  {
   "cell_type": "code",
   "execution_count": 27,
   "id": "cdbe3ff4",
   "metadata": {},
   "outputs": [],
   "source": [
    "car1 = Car(\"Agera R\", 2018, 6, 20000, \"Petrol\")"
   ]
  },
  {
   "cell_type": "code",
   "execution_count": 28,
   "id": "5984ede5",
   "metadata": {},
   "outputs": [
    {
     "name": "stdout",
     "output_type": "stream",
     "text": [
      "Model : Agera R\n",
      "Make : 2018\n",
      "Mileage : 6\n",
      "Distance driven : 20000\n",
      "Fueltype : Petrol\n"
     ]
    }
   ],
   "source": [
    "car1.details()"
   ]
  },
  {
   "cell_type": "code",
   "execution_count": 29,
   "id": "5f144d15",
   "metadata": {},
   "outputs": [
    {
     "name": "stdout",
     "output_type": "stream",
     "text": [
      "Eww, poor mileage\n",
      "Nice, the car has not been driven much\n"
     ]
    }
   ],
   "source": [
    "car1.moredetails()"
   ]
  },
  {
   "cell_type": "code",
   "execution_count": null,
   "id": "e3d3444a",
   "metadata": {},
   "outputs": [],
   "source": []
  }
 ],
 "metadata": {
  "kernelspec": {
   "display_name": "Python 3 (ipykernel)",
   "language": "python",
   "name": "python3"
  },
  "language_info": {
   "codemirror_mode": {
    "name": "ipython",
    "version": 3
   },
   "file_extension": ".py",
   "mimetype": "text/x-python",
   "name": "python",
   "nbconvert_exporter": "python",
   "pygments_lexer": "ipython3",
   "version": "3.9.7"
  }
 },
 "nbformat": 4,
 "nbformat_minor": 5
}
