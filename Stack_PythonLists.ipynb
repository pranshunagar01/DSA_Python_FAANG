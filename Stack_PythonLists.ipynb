{
 "cells": [
  {
   "cell_type": "code",
   "execution_count": 1,
   "id": "9926d044",
   "metadata": {},
   "outputs": [],
   "source": [
    "# Last IN - First OUT =>    LIFO      "
   ]
  },
  {
   "cell_type": "code",
   "execution_count": 3,
   "id": "706ab219",
   "metadata": {},
   "outputs": [],
   "source": [
    "# pop() - delete last element, \n",
    "# peek() - return last element, \n",
    "# isEmpty() - return true/false, \n",
    "# isFull() - in array (in some langs) when it is full,\n",
    "# delete() - the entire stack"
   ]
  },
  {
   "cell_type": "code",
   "execution_count": 4,
   "id": "72a1cc4b",
   "metadata": {},
   "outputs": [],
   "source": [
    " # Stack using List"
   ]
  },
  {
   "cell_type": "code",
   "execution_count": 32,
   "id": "ff9c9727",
   "metadata": {},
   "outputs": [],
   "source": [
    "class Stack:\n",
    "    def __init__(self):\n",
    "        self.list = []\n",
    "        \n",
    "# The list can also be initialized as the following to keep a max size        \n",
    "#   def __init__(self, MAX_SIZE):\n",
    "#       self.list = []\n",
    "#       self.maxSize = MAX_SIZE\n",
    "\n",
    "# Make another method isFull() and compare len with maxSize and return T/F\n",
    "    def isEmpty(self):\n",
    "        if self.list == []:\n",
    "            return True\n",
    "        return False\n",
    "    \n",
    "# We can keep on pushing til maxSize s not achieved\n",
    "    def push(self, value):\n",
    "        self.list.append(value)\n",
    "        self.show()\n",
    "        \n",
    "    def pop(self):\n",
    "        if self.list == []:\n",
    "            print(\"The stack is empty\")\n",
    "        else:\n",
    "            self.list.pop()\n",
    "        self.show()\n",
    "            \n",
    "    def peek(self):\n",
    "        if self.list == []:\n",
    "            print(\"The stack is empty\")\n",
    "            return\n",
    "        return self.list[-1]\n",
    "    \n",
    "    def show(self):\n",
    "        self.list.reverse()\n",
    "        for i in self.list:\n",
    "            print(i)\n",
    "        self.list.reverse()"
   ]
  },
  {
   "cell_type": "code",
   "execution_count": 33,
   "id": "49f7db34",
   "metadata": {},
   "outputs": [],
   "source": [
    "stack = Stack()"
   ]
  },
  {
   "cell_type": "code",
   "execution_count": 34,
   "id": "f5f09af7",
   "metadata": {},
   "outputs": [
    {
     "name": "stdout",
     "output_type": "stream",
     "text": [
      "The stack is empty\n"
     ]
    }
   ],
   "source": [
    "stack.peek()"
   ]
  },
  {
   "cell_type": "code",
   "execution_count": null,
   "id": "06ca19ee",
   "metadata": {},
   "outputs": [],
   "source": []
  }
 ],
 "metadata": {
  "kernelspec": {
   "display_name": "Python 3 (ipykernel)",
   "language": "python",
   "name": "python3"
  },
  "language_info": {
   "codemirror_mode": {
    "name": "ipython",
    "version": 3
   },
   "file_extension": ".py",
   "mimetype": "text/x-python",
   "name": "python",
   "nbconvert_exporter": "python",
   "pygments_lexer": "ipython3",
   "version": "3.9.7"
  }
 },
 "nbformat": 4,
 "nbformat_minor": 5
}
