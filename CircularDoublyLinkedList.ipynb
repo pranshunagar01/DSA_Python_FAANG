{
 "cells": [
  {
   "cell_type": "code",
   "execution_count": 54,
   "id": "56e35c15",
   "metadata": {},
   "outputs": [],
   "source": [
    "class CircularDoublyLinkedList:\n",
    "    def __init__(self):\n",
    "        self.head = None\n",
    "        self.tail = None\n",
    "    def show(self):\n",
    "        key = self.head\n",
    "        while(key.next != self.head):\n",
    "            print(key.value)\n",
    "            key=key.next\n",
    "        print(key.value)\n",
    "    def addFirst(self, value):\n",
    "        node = Node(value)\n",
    "        node.next = self.head\n",
    "        self.head.previous = node\n",
    "        self.tail.next = node\n",
    "        self.head = node\n",
    "        self.show()\n",
    "    def addLast(self, value):\n",
    "        node = Node(value)\n",
    "        node.next = self.head\n",
    "        self.tail.next = node\n",
    "        node.previous = self.tail\n",
    "        self.tail = node\n",
    "        self.show()\n",
    "    def addN(self, value, location):\n",
    "        node = Node(value)\n",
    "        key = self.head\n",
    "        for i in range(location-1):\n",
    "            key=key.next\n",
    "        node.next = key.next\n",
    "        key.next = node\n",
    "        node.previous = key\n",
    "        self.show()\n",
    "    def deleteN(self, location):\n",
    "        key = self.head\n",
    "        for i in range(location):\n",
    "            key=key.next\n",
    "        key.previous.next = key.next\n",
    "        key.next.previous = key.previous\n",
    "        self.show()\n",
    "        \n",
    "class Node:\n",
    "    def __init__(self, value):\n",
    "        self.previous = None\n",
    "        self.value = value\n",
    "        self.next = None   \n",
    "        \n",
    "list = CircularDoublyLinkedList()\n",
    "node1 = Node(1)\n",
    "node2 = Node(2)"
   ]
  },
  {
   "cell_type": "code",
   "execution_count": 55,
   "id": "66885b30",
   "metadata": {},
   "outputs": [],
   "source": [
    "list.head = node1\n",
    "list.tail = node2\n",
    "list.head.previous = node2\n",
    "list.head.next = node2\n",
    "list.tail.previous = node1\n",
    "list.tail.next = node1"
   ]
  },
  {
   "cell_type": "code",
   "execution_count": 56,
   "id": "6e1af0b6",
   "metadata": {},
   "outputs": [
    {
     "name": "stdout",
     "output_type": "stream",
     "text": [
      "0\n",
      "1\n",
      "2\n"
     ]
    }
   ],
   "source": [
    "list.addFirst(0)"
   ]
  },
  {
   "cell_type": "code",
   "execution_count": 57,
   "id": "beb89c8c",
   "metadata": {},
   "outputs": [
    {
     "name": "stdout",
     "output_type": "stream",
     "text": [
      "-1\n",
      "0\n",
      "1\n",
      "2\n"
     ]
    }
   ],
   "source": [
    "list.addFirst(-1)"
   ]
  },
  {
   "cell_type": "code",
   "execution_count": 58,
   "id": "da698414",
   "metadata": {},
   "outputs": [
    {
     "name": "stdout",
     "output_type": "stream",
     "text": [
      "-1\n",
      "0\n",
      "1\n",
      "2\n",
      "3\n"
     ]
    }
   ],
   "source": [
    "list.addLast(3)"
   ]
  },
  {
   "cell_type": "code",
   "execution_count": 59,
   "id": "6ac25779",
   "metadata": {},
   "outputs": [
    {
     "name": "stdout",
     "output_type": "stream",
     "text": [
      "-1\n",
      "0\n",
      "1\n",
      "2\n",
      "3\n",
      "4\n"
     ]
    }
   ],
   "source": [
    "list.addLast(4)"
   ]
  },
  {
   "cell_type": "code",
   "execution_count": 60,
   "id": "e42fc723",
   "metadata": {},
   "outputs": [
    {
     "name": "stdout",
     "output_type": "stream",
     "text": [
      "-1\n",
      "0\n",
      "10\n",
      "1\n",
      "2\n",
      "3\n",
      "4\n"
     ]
    }
   ],
   "source": [
    "list.addN(10,2)"
   ]
  },
  {
   "cell_type": "code",
   "execution_count": 61,
   "id": "6ef8096e",
   "metadata": {},
   "outputs": [
    {
     "name": "stdout",
     "output_type": "stream",
     "text": [
      "-1\n",
      "0\n",
      "10\n",
      "20\n",
      "1\n",
      "2\n",
      "3\n",
      "4\n"
     ]
    }
   ],
   "source": [
    "list.addN(20,3)"
   ]
  },
  {
   "cell_type": "code",
   "execution_count": 62,
   "id": "fccc7409",
   "metadata": {},
   "outputs": [
    {
     "name": "stdout",
     "output_type": "stream",
     "text": [
      "-1\n",
      "0\n",
      "20\n",
      "1\n",
      "2\n",
      "3\n",
      "4\n"
     ]
    }
   ],
   "source": [
    "list.deleteN(2)"
   ]
  },
  {
   "cell_type": "code",
   "execution_count": null,
   "id": "b6ccf9d7",
   "metadata": {},
   "outputs": [],
   "source": []
  }
 ],
 "metadata": {
  "kernelspec": {
   "display_name": "Python 3 (ipykernel)",
   "language": "python",
   "name": "python3"
  },
  "language_info": {
   "codemirror_mode": {
    "name": "ipython",
    "version": 3
   },
   "file_extension": ".py",
   "mimetype": "text/x-python",
   "name": "python",
   "nbconvert_exporter": "python",
   "pygments_lexer": "ipython3",
   "version": "3.9.7"
  }
 },
 "nbformat": 4,
 "nbformat_minor": 5
}
