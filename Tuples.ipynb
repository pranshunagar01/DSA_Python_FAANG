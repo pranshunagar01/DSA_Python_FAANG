{
 "cells": [
  {
   "cell_type": "code",
   "execution_count": 1,
   "id": "dbb9b4d5",
   "metadata": {},
   "outputs": [],
   "source": [
    "# Immutable sequence of Python Objects"
   ]
  },
  {
   "cell_type": "code",
   "execution_count": 2,
   "id": "8f91fd46",
   "metadata": {},
   "outputs": [],
   "source": [
    "# Tuples are comparable and hashable (the value remains same \n",
    "# during its lifetime)"
   ]
  },
  {
   "cell_type": "code",
   "execution_count": 12,
   "id": "84baae2b",
   "metadata": {},
   "outputs": [],
   "source": [
    "newTuple = ('a', 'b', 'c', 'd', 'e')"
   ]
  },
  {
   "cell_type": "code",
   "execution_count": 13,
   "id": "7fa902c2",
   "metadata": {},
   "outputs": [
    {
     "data": {
      "text/plain": [
       "('a', 'b', 'c', 'd', 'e')"
      ]
     },
     "execution_count": 13,
     "metadata": {},
     "output_type": "execute_result"
    }
   ],
   "source": [
    "newTuple"
   ]
  },
  {
   "cell_type": "code",
   "execution_count": 14,
   "id": "caea998f",
   "metadata": {},
   "outputs": [],
   "source": [
    "singleTuple = ('a',) # Note -> Comma is compulsary"
   ]
  },
  {
   "cell_type": "code",
   "execution_count": null,
   "id": "050a9ff6",
   "metadata": {},
   "outputs": [],
   "source": []
  },
  {
   "cell_type": "code",
   "execution_count": 16,
   "id": "17b3a834",
   "metadata": {},
   "outputs": [],
   "source": [
    "# Tuples in memory: Elements are stored contiguously in memory\n",
    "# This makes accessing elelmets extremely easy\n",
    "# Tuples are immutable"
   ]
  },
  {
   "cell_type": "code",
   "execution_count": null,
   "id": "b4b3443c",
   "metadata": {},
   "outputs": [],
   "source": []
  },
  {
   "cell_type": "code",
   "execution_count": 17,
   "id": "4a4355cc",
   "metadata": {},
   "outputs": [],
   "source": [
    "# Accessing tuple elements"
   ]
  },
  {
   "cell_type": "code",
   "execution_count": 18,
   "id": "6f81283b",
   "metadata": {},
   "outputs": [
    {
     "data": {
      "text/plain": [
       "('a', 'b', 'c', 'd', 'e')"
      ]
     },
     "execution_count": 18,
     "metadata": {},
     "output_type": "execute_result"
    }
   ],
   "source": [
    "newTuple"
   ]
  },
  {
   "cell_type": "code",
   "execution_count": 19,
   "id": "d8bc94f8",
   "metadata": {},
   "outputs": [
    {
     "data": {
      "text/plain": [
       "'a'"
      ]
     },
     "execution_count": 19,
     "metadata": {},
     "output_type": "execute_result"
    }
   ],
   "source": [
    "newTuple[0]"
   ]
  },
  {
   "cell_type": "code",
   "execution_count": 20,
   "id": "098ce55c",
   "metadata": {},
   "outputs": [
    {
     "data": {
      "text/plain": [
       "'e'"
      ]
     },
     "execution_count": 20,
     "metadata": {},
     "output_type": "execute_result"
    }
   ],
   "source": [
    "newTuple[-1]"
   ]
  },
  {
   "cell_type": "code",
   "execution_count": 21,
   "id": "2dc9964b",
   "metadata": {},
   "outputs": [
    {
     "data": {
      "text/plain": [
       "('a', 'b', 'c')"
      ]
     },
     "execution_count": 21,
     "metadata": {},
     "output_type": "execute_result"
    }
   ],
   "source": [
    "newTuple[:-2]  # Note -> Even the slice operator works"
   ]
  },
  {
   "cell_type": "code",
   "execution_count": null,
   "id": "bc1bf1e6",
   "metadata": {
    "scrolled": true
   },
   "outputs": [],
   "source": [
    "newTuple[2] = 'z' #Note -> Immutable"
   ]
  },
  {
   "cell_type": "code",
   "execution_count": 26,
   "id": "ffd8fce1",
   "metadata": {},
   "outputs": [
    {
     "name": "stdout",
     "output_type": "stream",
     "text": [
      "a\n",
      "b\n",
      "c\n",
      "d\n",
      "e\n"
     ]
    }
   ],
   "source": [
    "for i in newTuple:\n",
    "    print(i)"
   ]
  },
  {
   "cell_type": "code",
   "execution_count": 28,
   "id": "3d7c5054",
   "metadata": {},
   "outputs": [
    {
     "name": "stdout",
     "output_type": "stream",
     "text": [
      "a\n",
      "b\n",
      "c\n",
      "d\n",
      "e\n"
     ]
    }
   ],
   "source": [
    "for i in range(len(newTuple)):\n",
    "    print(newTuple[i])"
   ]
  },
  {
   "cell_type": "code",
   "execution_count": 29,
   "id": "af26d010",
   "metadata": {},
   "outputs": [],
   "source": [
    "# Search for an element in a tuple"
   ]
  },
  {
   "cell_type": "code",
   "execution_count": 30,
   "id": "bfdfe3c1",
   "metadata": {},
   "outputs": [
    {
     "data": {
      "text/plain": [
       "True"
      ]
     },
     "execution_count": 30,
     "metadata": {},
     "output_type": "execute_result"
    }
   ],
   "source": [
    "'a' in newTuple"
   ]
  },
  {
   "cell_type": "code",
   "execution_count": 31,
   "id": "46a441e9",
   "metadata": {},
   "outputs": [
    {
     "name": "stdout",
     "output_type": "stream",
     "text": [
      "True\n"
     ]
    }
   ],
   "source": [
    "for i in newTuple:\n",
    "    if i == 'a':\n",
    "        print(True)"
   ]
  },
  {
   "cell_type": "code",
   "execution_count": 1,
   "id": "1a71e6bb",
   "metadata": {},
   "outputs": [],
   "source": [
    "# Concatenation of two tuples"
   ]
  },
  {
   "cell_type": "code",
   "execution_count": 2,
   "id": "bbe2ac3c",
   "metadata": {},
   "outputs": [],
   "source": [
    "tuple1 = (1,2,3)\n",
    "tuple2 = (4,5,6)"
   ]
  },
  {
   "cell_type": "code",
   "execution_count": 3,
   "id": "84faef33",
   "metadata": {},
   "outputs": [
    {
     "data": {
      "text/plain": [
       "(1, 2, 3, 4, 5, 6)"
      ]
     },
     "execution_count": 3,
     "metadata": {},
     "output_type": "execute_result"
    }
   ],
   "source": [
    "tuple1+tuple2"
   ]
  },
  {
   "cell_type": "code",
   "execution_count": 8,
   "id": "f0769af7",
   "metadata": {},
   "outputs": [
    {
     "data": {
      "text/plain": [
       "(1, 2, 3, 1, 2, 3, 1, 2, 3, 1, 2, 3)"
      ]
     },
     "execution_count": 8,
     "metadata": {},
     "output_type": "execute_result"
    }
   ],
   "source": [
    "tuple3=tuple1*4\n",
    "tuple3"
   ]
  },
  {
   "cell_type": "code",
   "execution_count": 6,
   "id": "19e133e8",
   "metadata": {},
   "outputs": [
    {
     "data": {
      "text/plain": [
       "True"
      ]
     },
     "execution_count": 6,
     "metadata": {},
     "output_type": "execute_result"
    }
   ],
   "source": [
    "1 in tuple1"
   ]
  },
  {
   "cell_type": "code",
   "execution_count": 7,
   "id": "50a17204",
   "metadata": {},
   "outputs": [
    {
     "data": {
      "text/plain": [
       "False"
      ]
     },
     "execution_count": 7,
     "metadata": {},
     "output_type": "execute_result"
    }
   ],
   "source": [
    "4 in tuple1"
   ]
  },
  {
   "cell_type": "code",
   "execution_count": 9,
   "id": "08b477ab",
   "metadata": {},
   "outputs": [
    {
     "data": {
      "text/plain": [
       "4"
      ]
     },
     "execution_count": 9,
     "metadata": {},
     "output_type": "execute_result"
    }
   ],
   "source": [
    "tuple3.count(2)"
   ]
  },
  {
   "cell_type": "code",
   "execution_count": 10,
   "id": "4f36a1ba",
   "metadata": {},
   "outputs": [
    {
     "data": {
      "text/plain": [
       "1"
      ]
     },
     "execution_count": 10,
     "metadata": {},
     "output_type": "execute_result"
    }
   ],
   "source": [
    "tuple3.index(2)"
   ]
  },
  {
   "cell_type": "code",
   "execution_count": 11,
   "id": "a75a891b",
   "metadata": {},
   "outputs": [
    {
     "data": {
      "text/plain": [
       "12"
      ]
     },
     "execution_count": 11,
     "metadata": {},
     "output_type": "execute_result"
    }
   ],
   "source": [
    "len(tuple3)"
   ]
  },
  {
   "cell_type": "code",
   "execution_count": 12,
   "id": "0d50f54c",
   "metadata": {},
   "outputs": [
    {
     "data": {
      "text/plain": [
       "1"
      ]
     },
     "execution_count": 12,
     "metadata": {},
     "output_type": "execute_result"
    }
   ],
   "source": [
    "min(tuple1)"
   ]
  },
  {
   "cell_type": "code",
   "execution_count": 13,
   "id": "87cb682d",
   "metadata": {},
   "outputs": [
    {
     "data": {
      "text/plain": [
       "6"
      ]
     },
     "execution_count": 13,
     "metadata": {},
     "output_type": "execute_result"
    }
   ],
   "source": [
    "max(tuple2)"
   ]
  },
  {
   "cell_type": "code",
   "execution_count": null,
   "id": "5d4e3419",
   "metadata": {},
   "outputs": [],
   "source": [
    "# Convert a list to a tuple"
   ]
  },
  {
   "cell_type": "code",
   "execution_count": 14,
   "id": "4889b7a1",
   "metadata": {},
   "outputs": [],
   "source": [
    "list1 = [1,2,3,4]"
   ]
  },
  {
   "cell_type": "code",
   "execution_count": 15,
   "id": "eadd9700",
   "metadata": {},
   "outputs": [
    {
     "data": {
      "text/plain": [
       "(1, 2, 3, 4)"
      ]
     },
     "execution_count": 15,
     "metadata": {},
     "output_type": "execute_result"
    }
   ],
   "source": [
    "tuple(list1)"
   ]
  },
  {
   "cell_type": "code",
   "execution_count": null,
   "id": "a1ae55a1",
   "metadata": {},
   "outputs": [],
   "source": []
  },
  {
   "cell_type": "code",
   "execution_count": 16,
   "id": "3ec213bf",
   "metadata": {},
   "outputs": [],
   "source": [
    "# Tuple vs List"
   ]
  },
  {
   "cell_type": "code",
   "execution_count": 17,
   "id": "e614e444",
   "metadata": {},
   "outputs": [],
   "source": [
    "# List is mutable while Tuple is immutable"
   ]
  },
  {
   "cell_type": "code",
   "execution_count": 18,
   "id": "75c8bcae",
   "metadata": {},
   "outputs": [],
   "source": [
    "# We can assign the whole tuple to a new one."
   ]
  },
  {
   "cell_type": "code",
   "execution_count": 19,
   "id": "7a6276d1",
   "metadata": {},
   "outputs": [],
   "source": [
    "# But we can't change individual elements of a tuple."
   ]
  },
  {
   "cell_type": "code",
   "execution_count": null,
   "id": "c0673387",
   "metadata": {},
   "outputs": [],
   "source": [
    "# Sort, pop, clear, etc can't be used with tuple"
   ]
  }
 ],
 "metadata": {
  "kernelspec": {
   "display_name": "Python 3 (ipykernel)",
   "language": "python",
   "name": "python3"
  },
  "language_info": {
   "codemirror_mode": {
    "name": "ipython",
    "version": 3
   },
   "file_extension": ".py",
   "mimetype": "text/x-python",
   "name": "python",
   "nbconvert_exporter": "python",
   "pygments_lexer": "ipython3",
   "version": "3.9.7"
  }
 },
 "nbformat": 4,
 "nbformat_minor": 5
}
