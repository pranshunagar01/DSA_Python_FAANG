{
 "cells": [
  {
   "cell_type": "code",
   "execution_count": 191,
   "id": "a2a40356",
   "metadata": {},
   "outputs": [],
   "source": [
    "class CircularSingleLinkedList:\n",
    "    def __init__(self):\n",
    "        self.head = None\n",
    "        self.tail = None\n",
    "    def addFirst(self, value):\n",
    "        node = Node(value)\n",
    "        node.next = self.head\n",
    "        self.tail.next = node\n",
    "        self.head = node\n",
    "        self.show()\n",
    "    def addLast(self, value):\n",
    "        node = Node(value)\n",
    "        key = self.head\n",
    "        while(key.next != self.head):\n",
    "            key = key.next\n",
    "        key.next = node\n",
    "        node.next = self.head\n",
    "        self.tail = node\n",
    "        self.show()\n",
    "    def addN(self, value, location):\n",
    "        node = Node(value)\n",
    "        if location == 0:\n",
    "            node.next = self.head\n",
    "            self.head = node\n",
    "            self.tail.next = node\n",
    "        elif location == 1:\n",
    "            node.next = self.head.next\n",
    "            self.head.next = node\n",
    "        else:\n",
    "            key = self.head\n",
    "            for i in range(location-1):\n",
    "                key = key.next\n",
    "            node.next = key.next\n",
    "            key.next = node\n",
    "        self.show()\n",
    "    def deleteLast(self):\n",
    "        key = self.head\n",
    "        while(key.next != self.tail):\n",
    "            key = key.next\n",
    "        key.next = self.head\n",
    "        self.tail = key\n",
    "        self.show()\n",
    "    def deleteFirst(self):\n",
    "        self.head = self.head.next\n",
    "        self.tail.next = self.head\n",
    "        self.show()\n",
    "    def deleteN(self, location):\n",
    "        key = self.head\n",
    "        for i in range(location-1):\n",
    "            key = key.next\n",
    "        key.next = key.next.next\n",
    "        self.show()\n",
    "    def show(self):\n",
    "        key = self.head\n",
    "        while(key.next != self.head):\n",
    "            print(key.value)\n",
    "            key = key.next\n",
    "        print(key.value)\n",
    "    \n",
    "class Node:\n",
    "    def __init__(self, value):\n",
    "        self.value = value\n",
    "        self.next = None\n",
    "        \n",
    "list = CircularSingleLinkedList()\n",
    "node1 = Node(1)\n",
    "node2 = Node(2)"
   ]
  },
  {
   "cell_type": "code",
   "execution_count": 192,
   "id": "6830e95f",
   "metadata": {},
   "outputs": [],
   "source": [
    "list.head = node1\n",
    "list.tail = node2\n",
    "list.head.next = node2\n",
    "list.tail.next = node1"
   ]
  },
  {
   "cell_type": "code",
   "execution_count": 193,
   "id": "3da214cc",
   "metadata": {},
   "outputs": [
    {
     "name": "stdout",
     "output_type": "stream",
     "text": [
      "1\n",
      "2\n"
     ]
    }
   ],
   "source": [
    "list.show()"
   ]
  },
  {
   "cell_type": "code",
   "execution_count": 194,
   "id": "a265ab5f",
   "metadata": {},
   "outputs": [
    {
     "name": "stdout",
     "output_type": "stream",
     "text": [
      "0\n",
      "1\n",
      "2\n"
     ]
    }
   ],
   "source": [
    "list.addFirst(0)"
   ]
  },
  {
   "cell_type": "code",
   "execution_count": 195,
   "id": "99366569",
   "metadata": {},
   "outputs": [
    {
     "name": "stdout",
     "output_type": "stream",
     "text": [
      "0\n",
      "1\n",
      "2\n",
      "3\n"
     ]
    }
   ],
   "source": [
    "list.addLast(3)"
   ]
  },
  {
   "cell_type": "code",
   "execution_count": 196,
   "id": "cc97c632",
   "metadata": {},
   "outputs": [
    {
     "name": "stdout",
     "output_type": "stream",
     "text": [
      "0\n",
      "1\n",
      "2\n",
      "3\n",
      "4\n"
     ]
    }
   ],
   "source": [
    "list.addLast(4)"
   ]
  },
  {
   "cell_type": "code",
   "execution_count": 197,
   "id": "d06c50aa",
   "metadata": {},
   "outputs": [
    {
     "name": "stdout",
     "output_type": "stream",
     "text": [
      "-1\n",
      "0\n",
      "1\n",
      "2\n",
      "3\n",
      "4\n"
     ]
    }
   ],
   "source": [
    "list.addFirst(-1)"
   ]
  },
  {
   "cell_type": "code",
   "execution_count": 198,
   "id": "4f4e08cd",
   "metadata": {},
   "outputs": [
    {
     "name": "stdout",
     "output_type": "stream",
     "text": [
      "-1\n",
      "0\n",
      "5\n",
      "1\n",
      "2\n",
      "3\n",
      "4\n"
     ]
    }
   ],
   "source": [
    "list.addN(5,2)"
   ]
  },
  {
   "cell_type": "code",
   "execution_count": 199,
   "id": "4f884f2d",
   "metadata": {},
   "outputs": [
    {
     "name": "stdout",
     "output_type": "stream",
     "text": [
      "10\n",
      "-1\n",
      "0\n",
      "5\n",
      "1\n",
      "2\n",
      "3\n",
      "4\n"
     ]
    }
   ],
   "source": [
    "list.addN(10,0)"
   ]
  },
  {
   "cell_type": "code",
   "execution_count": 200,
   "id": "51012b54",
   "metadata": {},
   "outputs": [
    {
     "name": "stdout",
     "output_type": "stream",
     "text": [
      "10\n",
      "20\n",
      "-1\n",
      "0\n",
      "5\n",
      "1\n",
      "2\n",
      "3\n",
      "4\n"
     ]
    }
   ],
   "source": [
    "list.addN(20,1)"
   ]
  },
  {
   "cell_type": "code",
   "execution_count": 201,
   "id": "4f65546e",
   "metadata": {},
   "outputs": [
    {
     "name": "stdout",
     "output_type": "stream",
     "text": [
      "10\n",
      "20\n",
      "30\n",
      "-1\n",
      "0\n",
      "5\n",
      "1\n",
      "2\n",
      "3\n",
      "4\n"
     ]
    }
   ],
   "source": [
    "list.addN(30,2)"
   ]
  },
  {
   "cell_type": "code",
   "execution_count": 202,
   "id": "ccabb241",
   "metadata": {},
   "outputs": [
    {
     "name": "stdout",
     "output_type": "stream",
     "text": [
      "10\n",
      "20\n",
      "30\n",
      "-1\n",
      "0\n",
      "5\n",
      "1\n",
      "2\n",
      "3\n"
     ]
    }
   ],
   "source": [
    "list.deleteLast()"
   ]
  },
  {
   "cell_type": "code",
   "execution_count": 203,
   "id": "2d023fd8",
   "metadata": {},
   "outputs": [
    {
     "name": "stdout",
     "output_type": "stream",
     "text": [
      "10\n",
      "20\n",
      "30\n",
      "-1\n",
      "0\n",
      "5\n",
      "1\n",
      "2\n"
     ]
    }
   ],
   "source": [
    "list.deleteLast()"
   ]
  },
  {
   "cell_type": "code",
   "execution_count": 204,
   "id": "96f13f81",
   "metadata": {},
   "outputs": [
    {
     "name": "stdout",
     "output_type": "stream",
     "text": [
      "10\n",
      "20\n",
      "30\n",
      "-1\n",
      "0\n",
      "5\n",
      "1\n"
     ]
    }
   ],
   "source": [
    "list.deleteLast()"
   ]
  },
  {
   "cell_type": "code",
   "execution_count": 205,
   "id": "28c59e20",
   "metadata": {},
   "outputs": [
    {
     "name": "stdout",
     "output_type": "stream",
     "text": [
      "20\n",
      "30\n",
      "-1\n",
      "0\n",
      "5\n",
      "1\n"
     ]
    }
   ],
   "source": [
    "list.deleteFirst()"
   ]
  },
  {
   "cell_type": "code",
   "execution_count": 206,
   "id": "ae3790e5",
   "metadata": {},
   "outputs": [
    {
     "name": "stdout",
     "output_type": "stream",
     "text": [
      "30\n",
      "-1\n",
      "0\n",
      "5\n",
      "1\n"
     ]
    }
   ],
   "source": [
    "list.deleteFirst()"
   ]
  },
  {
   "cell_type": "code",
   "execution_count": 207,
   "id": "9e0493f7",
   "metadata": {},
   "outputs": [
    {
     "name": "stdout",
     "output_type": "stream",
     "text": [
      "30\n",
      "0\n",
      "5\n",
      "1\n"
     ]
    }
   ],
   "source": [
    "list.deleteN(1)"
   ]
  },
  {
   "cell_type": "code",
   "execution_count": null,
   "id": "db1d395e",
   "metadata": {},
   "outputs": [],
   "source": []
  }
 ],
 "metadata": {
  "kernelspec": {
   "display_name": "Python 3 (ipykernel)",
   "language": "python",
   "name": "python3"
  },
  "language_info": {
   "codemirror_mode": {
    "name": "ipython",
    "version": 3
   },
   "file_extension": ".py",
   "mimetype": "text/x-python",
   "name": "python",
   "nbconvert_exporter": "python",
   "pygments_lexer": "ipython3",
   "version": "3.9.7"
  }
 },
 "nbformat": 4,
 "nbformat_minor": 5
}
