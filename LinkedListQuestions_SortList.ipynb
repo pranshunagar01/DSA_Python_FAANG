{
 "cells": [
  {
   "cell_type": "code",
   "execution_count": 37,
   "id": "299f9247",
   "metadata": {},
   "outputs": [],
   "source": [
    "def sortList(list):\n",
    "    key = list.head\n",
    "    key2 = list.head\n",
    "    while key2.next != list.head:\n",
    "        while(key.next != list.head):\n",
    "            if key.value > key.next.value:\n",
    "                temp = key.value\n",
    "                key.value = key.next.value\n",
    "                key.next.value = temp\n",
    "            key=key.next\n",
    "        if key.next.value > key.next.next.value:\n",
    "            temp = key.next.value\n",
    "            key.next.value = key.next.next.value\n",
    "            key.next.next.value = temp\n",
    "        key2=key2.next\n",
    "        \n",
    "    \n",
    "\n",
    "class LinkedList:\n",
    "    def __init__(self):\n",
    "        self.head = None\n",
    "        self.tail = None\n",
    "    def addLast(self, value):\n",
    "        node = Node(value)\n",
    "        node.previous = self.tail\n",
    "        node.next = self.head\n",
    "        self.tail.next = node\n",
    "        self.tail = node\n",
    "        self.show()\n",
    "    def show(self):\n",
    "        key = self.head\n",
    "        while key.next != self.head:\n",
    "            print(key.value)\n",
    "            key=key.next\n",
    "        print(key.value)\n",
    "    \n",
    "class Node:\n",
    "    def __init__(self, value):\n",
    "        self.previous = None\n",
    "        self.value = value\n",
    "        self.next = None\n",
    "    \n",
    "list = LinkedList()\n",
    "node1 = Node(1)\n",
    "node2 = Node(2)\n",
    "\n",
    "list.head = node1\n",
    "list.tail = node2\n",
    "list.head.previous = node2\n",
    "list.head.next = node2\n",
    "list.tail.previous = node1\n",
    "list.tail.next = node1"
   ]
  },
  {
   "cell_type": "code",
   "execution_count": 38,
   "id": "df5131a4",
   "metadata": {},
   "outputs": [
    {
     "name": "stdout",
     "output_type": "stream",
     "text": [
      "1\n",
      "2\n",
      "5\n",
      "1\n",
      "2\n",
      "5\n",
      "4\n",
      "1\n",
      "2\n",
      "5\n",
      "4\n",
      "3\n",
      "1\n",
      "2\n",
      "5\n",
      "4\n",
      "3\n",
      "0\n"
     ]
    }
   ],
   "source": [
    "for i in [5,4,3,0]:\n",
    "    list.addLast(i)"
   ]
  },
  {
   "cell_type": "code",
   "execution_count": 39,
   "id": "9c9fdf56",
   "metadata": {},
   "outputs": [
    {
     "name": "stdout",
     "output_type": "stream",
     "text": [
      "1\n",
      "2\n",
      "5\n",
      "4\n",
      "3\n",
      "0\n"
     ]
    }
   ],
   "source": [
    "list.show()"
   ]
  },
  {
   "cell_type": "code",
   "execution_count": 40,
   "id": "49edb4cd",
   "metadata": {},
   "outputs": [],
   "source": [
    "sortList(list)"
   ]
  },
  {
   "cell_type": "code",
   "execution_count": 41,
   "id": "abf2578a",
   "metadata": {},
   "outputs": [
    {
     "name": "stdout",
     "output_type": "stream",
     "text": [
      "1\n",
      "2\n",
      "4\n",
      "3\n",
      "0\n",
      "5\n"
     ]
    }
   ],
   "source": [
    "list.show()"
   ]
  },
  {
   "cell_type": "code",
   "execution_count": null,
   "id": "277f3453",
   "metadata": {},
   "outputs": [],
   "source": []
  }
 ],
 "metadata": {
  "kernelspec": {
   "display_name": "Python 3 (ipykernel)",
   "language": "python",
   "name": "python3"
  },
  "language_info": {
   "codemirror_mode": {
    "name": "ipython",
    "version": 3
   },
   "file_extension": ".py",
   "mimetype": "text/x-python",
   "name": "python",
   "nbconvert_exporter": "python",
   "pygments_lexer": "ipython3",
   "version": "3.9.7"
  }
 },
 "nbformat": 4,
 "nbformat_minor": 5
}
