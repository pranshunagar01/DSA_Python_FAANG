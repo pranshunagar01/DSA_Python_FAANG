{
 "cells": [
  {
   "cell_type": "code",
   "execution_count": 6,
   "id": "69d7331e",
   "metadata": {},
   "outputs": [
    {
     "name": "stdout",
     "output_type": "stream",
     "text": [
      "Enter how many day's temperature : 3\n",
      "Day 1's high temp: 10\n",
      "Day 2's high temp: 20\n",
      "Day 3's high temp: 15\n",
      "15.0\n",
      "1\n"
     ]
    }
   ],
   "source": [
    "list1 = []\n",
    "count = int(input(\"Enter how many day's temperature : \"))\n",
    "for i in range(count):\n",
    "    temp = int(input(\"Day \"+str(i+1)+\"'s high temp: \"))\n",
    "    list1.append(temp)\n",
    "\n",
    "average = sum(list1)/len(list1)\n",
    "finalCount = 0\n",
    "for i in list1:\n",
    "    if i > average:\n",
    "        finalCount+=1\n",
    "print(average)\n",
    "print(finalCount)"
   ]
  },
  {
   "cell_type": "code",
   "execution_count": null,
   "id": "3d1c0f2c",
   "metadata": {},
   "outputs": [],
   "source": []
  }
 ],
 "metadata": {
  "kernelspec": {
   "display_name": "Python 3 (ipykernel)",
   "language": "python",
   "name": "python3"
  },
  "language_info": {
   "codemirror_mode": {
    "name": "ipython",
    "version": 3
   },
   "file_extension": ".py",
   "mimetype": "text/x-python",
   "name": "python",
   "nbconvert_exporter": "python",
   "pygments_lexer": "ipython3",
   "version": "3.9.7"
  }
 },
 "nbformat": 4,
 "nbformat_minor": 5
}
