{
 "cells": [
  {
   "cell_type": "code",
   "execution_count": 1,
   "id": "dabcc54b",
   "metadata": {},
   "outputs": [],
   "source": [
    "# First IN - First OUT => FIFO    IIIIIIIIII\n",
    "# Example - A queue of people\n",
    "# Example - Orders received by a restaurant\n",
    "# Example - A printer's queue\n",
    "# Example - A call center call waiting"
   ]
  },
  {
   "cell_type": "code",
   "execution_count": 2,
   "id": "4aa597bf",
   "metadata": {},
   "outputs": [],
   "source": [
    "# Queue can be created either using Python List or using Python Linked Lists"
   ]
  },
  {
   "cell_type": "code",
   "execution_count": 68,
   "id": "040827c2",
   "metadata": {},
   "outputs": [],
   "source": [
    "# Queue Operations :-\n",
    "# Create Queue\n",
    "# Enqueue\n",
    "# Dequeue\n",
    "# Peek\n",
    "# isEmpty\n",
    "# isFull\n",
    "# deleteQueue"
   ]
  },
  {
   "cell_type": "code",
   "execution_count": 69,
   "id": "242acfc4",
   "metadata": {},
   "outputs": [],
   "source": [
    "class Queue:\n",
    "    def __init__(self):\n",
    "        self.list = []\n",
    "    # We can also set a limit to the size of queue by following\n",
    "#   def __init__(self, MAX_SIZE):\n",
    "#       self.list = []\n",
    "#       self.maxSize = MAX_SIZE\n",
    "\n",
    "# We should check that the len of list is less than max size\n",
    "    def enqueue(self, value):\n",
    "        self.list.insert(0, value)\n",
    "        self.show()\n",
    "    def show(self):\n",
    "        if len(self.list) == 0:\n",
    "            print(\"The Queue is empty\")\n",
    "            return\n",
    "        self.list.reverse()\n",
    "        for i in self.list:\n",
    "            print(i, end='  ')\n",
    "        self.list.reverse()\n",
    "    def dequeue(self):\n",
    "        if len(self.list) == 0:\n",
    "            print(\"The Queue is empty\")\n",
    "            return\n",
    "        self.list.pop()\n",
    "        self.show()\n",
    "    def isEmpty(self):\n",
    "        if self.list == []:\n",
    "            return True\n",
    "        return False\n",
    "# We can also create isFull method that return T/F for len == or != MAX_SIZE \n",
    "    def peek(self):\n",
    "        return self.list[0]\n",
    "    \n",
    "queue = Queue()"
   ]
  },
  {
   "cell_type": "code",
   "execution_count": 70,
   "id": "e420b46b",
   "metadata": {},
   "outputs": [
    {
     "name": "stdout",
     "output_type": "stream",
     "text": [
      "The Queue is empty\n"
     ]
    }
   ],
   "source": [
    "queue.show()"
   ]
  },
  {
   "cell_type": "code",
   "execution_count": 71,
   "id": "1222b6b9",
   "metadata": {},
   "outputs": [
    {
     "name": "stdout",
     "output_type": "stream",
     "text": [
      "1  "
     ]
    }
   ],
   "source": [
    "queue.enqueue(1)"
   ]
  },
  {
   "cell_type": "code",
   "execution_count": 72,
   "id": "2f7cc23f",
   "metadata": {},
   "outputs": [
    {
     "name": "stdout",
     "output_type": "stream",
     "text": [
      "1  2  1  2  3  1  2  3  4  "
     ]
    }
   ],
   "source": [
    "for i in [2,3,4]:\n",
    "    queue.enqueue(i)"
   ]
  },
  {
   "cell_type": "code",
   "execution_count": 73,
   "id": "e6c9169b",
   "metadata": {},
   "outputs": [
    {
     "name": "stdout",
     "output_type": "stream",
     "text": [
      "1  2  3  4  "
     ]
    }
   ],
   "source": [
    "queue.show()"
   ]
  },
  {
   "cell_type": "code",
   "execution_count": 74,
   "id": "01053f62",
   "metadata": {},
   "outputs": [
    {
     "name": "stdout",
     "output_type": "stream",
     "text": [
      "2  3  4  "
     ]
    }
   ],
   "source": [
    "queue.dequeue()"
   ]
  },
  {
   "cell_type": "code",
   "execution_count": 75,
   "id": "aadb0d26",
   "metadata": {},
   "outputs": [
    {
     "name": "stdout",
     "output_type": "stream",
     "text": [
      "2  3  4  0  "
     ]
    }
   ],
   "source": [
    "queue.enqueue(0)"
   ]
  },
  {
   "cell_type": "code",
   "execution_count": 76,
   "id": "4f8a22ca",
   "metadata": {},
   "outputs": [
    {
     "name": "stdout",
     "output_type": "stream",
     "text": [
      "3  4  0  "
     ]
    }
   ],
   "source": [
    "queue.dequeue()"
   ]
  },
  {
   "cell_type": "code",
   "execution_count": 77,
   "id": "fc4328b8",
   "metadata": {},
   "outputs": [
    {
     "data": {
      "text/plain": [
       "False"
      ]
     },
     "execution_count": 77,
     "metadata": {},
     "output_type": "execute_result"
    }
   ],
   "source": [
    "queue.isEmpty()"
   ]
  },
  {
   "cell_type": "code",
   "execution_count": 78,
   "id": "c4925db1",
   "metadata": {},
   "outputs": [
    {
     "name": "stdout",
     "output_type": "stream",
     "text": [
      "3  4  0  "
     ]
    }
   ],
   "source": [
    "queue.show()"
   ]
  },
  {
   "cell_type": "code",
   "execution_count": 79,
   "id": "8c7cfa60",
   "metadata": {},
   "outputs": [
    {
     "data": {
      "text/plain": [
       "0"
      ]
     },
     "execution_count": 79,
     "metadata": {},
     "output_type": "execute_result"
    }
   ],
   "source": [
    "queue.peek()"
   ]
  },
  {
   "cell_type": "code",
   "execution_count": 80,
   "id": "e91fd73a",
   "metadata": {},
   "outputs": [
    {
     "name": "stdout",
     "output_type": "stream",
     "text": [
      "4  0  0  "
     ]
    }
   ],
   "source": [
    "for i in range(2):\n",
    "    queue.dequeue()"
   ]
  },
  {
   "cell_type": "code",
   "execution_count": null,
   "id": "0c75b1de",
   "metadata": {},
   "outputs": [],
   "source": []
  }
 ],
 "metadata": {
  "kernelspec": {
   "display_name": "Python 3 (ipykernel)",
   "language": "python",
   "name": "python3"
  },
  "language_info": {
   "codemirror_mode": {
    "name": "ipython",
    "version": 3
   },
   "file_extension": ".py",
   "mimetype": "text/x-python",
   "name": "python",
   "nbconvert_exporter": "python",
   "pygments_lexer": "ipython3",
   "version": "3.9.7"
  }
 },
 "nbformat": 4,
 "nbformat_minor": 5
}
