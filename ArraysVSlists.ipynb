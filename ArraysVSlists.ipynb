{
 "cells": [
  {
   "cell_type": "code",
   "execution_count": 2,
   "id": "177bae9a",
   "metadata": {},
   "outputs": [],
   "source": [
    "# Similarities\n",
    "# Both are mutable\n",
    "# Both can be indexed and iterated\n",
    "# Both can be sliced ([: 5])"
   ]
  },
  {
   "cell_type": "code",
   "execution_count": 4,
   "id": "08d70fec",
   "metadata": {},
   "outputs": [],
   "source": [
    "# Differences\n",
    "# Arrays are optimized for Arithmetic Operations"
   ]
  },
  {
   "cell_type": "code",
   "execution_count": 5,
   "id": "b06a59c3",
   "metadata": {},
   "outputs": [],
   "source": [
    "import numpy as np"
   ]
  },
  {
   "cell_type": "code",
   "execution_count": 7,
   "id": "919d5b5d",
   "metadata": {},
   "outputs": [],
   "source": [
    "arr1 = np.array([1,2,3,4])\n",
    "list1 = [1,2,3,4]"
   ]
  },
  {
   "cell_type": "code",
   "execution_count": 8,
   "id": "c736bc37",
   "metadata": {},
   "outputs": [
    {
     "data": {
      "text/plain": [
       "array([0.5, 1. , 1.5, 2. ])"
      ]
     },
     "execution_count": 8,
     "metadata": {},
     "output_type": "execute_result"
    }
   ],
   "source": [
    "arr1/2"
   ]
  },
  {
   "cell_type": "code",
   "execution_count": 10,
   "id": "323b9290",
   "metadata": {},
   "outputs": [],
   "source": [
    "# list1/2 -> Gives Error"
   ]
  },
  {
   "cell_type": "code",
   "execution_count": 12,
   "id": "6d3e7d03",
   "metadata": {},
   "outputs": [],
   "source": [
    "# List can have different datatypes, \n",
    "# while arrays have same datatype of elements"
   ]
  },
  {
   "cell_type": "code",
   "execution_count": 13,
   "id": "8138e3f8",
   "metadata": {},
   "outputs": [],
   "source": [
    "arr2 = np.array([1,2,3,4,5,'a'])"
   ]
  },
  {
   "cell_type": "code",
   "execution_count": 14,
   "id": "236eff5d",
   "metadata": {},
   "outputs": [
    {
     "data": {
      "text/plain": [
       "array(['1', '2', '3', '4', '5', 'a'], dtype='<U11')"
      ]
     },
     "execution_count": 14,
     "metadata": {},
     "output_type": "execute_result"
    }
   ],
   "source": [
    "arr2"
   ]
  },
  {
   "cell_type": "code",
   "execution_count": null,
   "id": "d75bc449",
   "metadata": {},
   "outputs": [],
   "source": [
    "# above all are interpreted as character"
   ]
  }
 ],
 "metadata": {
  "kernelspec": {
   "display_name": "Python 3 (ipykernel)",
   "language": "python",
   "name": "python3"
  },
  "language_info": {
   "codemirror_mode": {
    "name": "ipython",
    "version": 3
   },
   "file_extension": ".py",
   "mimetype": "text/x-python",
   "name": "python",
   "nbconvert_exporter": "python",
   "pygments_lexer": "ipython3",
   "version": "3.9.7"
  }
 },
 "nbformat": 4,
 "nbformat_minor": 5
}
