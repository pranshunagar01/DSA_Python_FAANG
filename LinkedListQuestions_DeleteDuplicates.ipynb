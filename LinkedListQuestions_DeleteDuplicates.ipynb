{
 "cells": [
  {
   "cell_type": "code",
   "execution_count": 28,
   "id": "8adfc64f",
   "metadata": {},
   "outputs": [],
   "source": [
    "def deleteDuplicates(linkedlist):\n",
    "    key = linkedlist.head\n",
    "    while(key.next != linkedlist.head):\n",
    "        key1 = key.next\n",
    "        while(key1.next != linkedlist.head):\n",
    "            if key.value == key1.value:\n",
    "                key1.previous.next = key1.next\n",
    "                key1.next.previous = key1.previous\n",
    "            key1=key1.next\n",
    "        if key.value == key1.value:\n",
    "            key1.previous.next = key1.next\n",
    "            key1.next.previous = key1.previous\n",
    "        key = key.next\n",
    "\n",
    "class LinkedList:\n",
    "    def __init__(self):\n",
    "        self.head = None\n",
    "        self.tail = None\n",
    "    def show(self):\n",
    "        key = self.head\n",
    "        while(key.next != self.head):\n",
    "            print(key.value)\n",
    "            key=key.next\n",
    "        print(key.value)\n",
    "    def addLast(self, node):\n",
    "        node.next = self.head\n",
    "        node.previous = self.tail\n",
    "        self.tail.next = node\n",
    "        self.tail = node\n",
    "        \n",
    "class Node:\n",
    "    def __init__(self, value):\n",
    "        self.previous = None\n",
    "        self.value = value\n",
    "        self.next = None\n",
    "        \n",
    "list = LinkedList()\n",
    "node1 = Node(0)\n",
    "node2 = Node(1)\n",
    "list.head = node1\n",
    "list.tail = node2\n",
    "list.head.previous = node2\n",
    "list.head.next = node2\n",
    "list.tail.previous = node1\n",
    "list.tail.next = node1"
   ]
  },
  {
   "cell_type": "code",
   "execution_count": 29,
   "id": "7ea2f261",
   "metadata": {},
   "outputs": [
    {
     "name": "stdout",
     "output_type": "stream",
     "text": [
      "0\n",
      "1\n"
     ]
    }
   ],
   "source": [
    "list.show()"
   ]
  },
  {
   "cell_type": "code",
   "execution_count": 30,
   "id": "281a8004",
   "metadata": {},
   "outputs": [
    {
     "name": "stdout",
     "output_type": "stream",
     "text": [
      "0\n",
      "1\n",
      "0\n",
      "2\n",
      "2\n",
      "2\n",
      "3\n",
      "4\n",
      "5\n",
      "6\n",
      "6\n",
      "6\n"
     ]
    }
   ],
   "source": [
    "for i in [0,2,2,2,3,4,5,6,6,6]:\n",
    "    list.addLast(Node(i))\n",
    "list.show()"
   ]
  },
  {
   "cell_type": "code",
   "execution_count": 31,
   "id": "cb0c8f34",
   "metadata": {},
   "outputs": [],
   "source": [
    "deleteDuplicates(list)"
   ]
  },
  {
   "cell_type": "code",
   "execution_count": 32,
   "id": "947f707a",
   "metadata": {},
   "outputs": [
    {
     "name": "stdout",
     "output_type": "stream",
     "text": [
      "0\n",
      "1\n",
      "2\n",
      "3\n",
      "4\n",
      "5\n",
      "6\n"
     ]
    }
   ],
   "source": [
    "list.show()"
   ]
  },
  {
   "cell_type": "code",
   "execution_count": null,
   "id": "ae90aed7",
   "metadata": {},
   "outputs": [],
   "source": []
  }
 ],
 "metadata": {
  "kernelspec": {
   "display_name": "Python 3 (ipykernel)",
   "language": "python",
   "name": "python3"
  },
  "language_info": {
   "codemirror_mode": {
    "name": "ipython",
    "version": 3
   },
   "file_extension": ".py",
   "mimetype": "text/x-python",
   "name": "python",
   "nbconvert_exporter": "python",
   "pygments_lexer": "ipython3",
   "version": "3.9.7"
  }
 },
 "nbformat": 4,
 "nbformat_minor": 5
}
