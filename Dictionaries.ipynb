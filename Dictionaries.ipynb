{
 "cells": [
  {
   "cell_type": "code",
   "execution_count": null,
   "id": "a9d8db41",
   "metadata": {},
   "outputs": [],
   "source": [
    "#           Key          Value"
   ]
  },
  {
   "cell_type": "code",
   "execution_count": 7,
   "id": "a69b9f13",
   "metadata": {},
   "outputs": [],
   "source": [
    "myDict = {1:\"One\", 2:\"Two\", 3:\"Three\", 4:\"Four\", 5:\"Five\"}"
   ]
  },
  {
   "cell_type": "code",
   "execution_count": 8,
   "id": "2dd3ad0a",
   "metadata": {},
   "outputs": [],
   "source": [
    "# Sequence does'nt matter\n",
    "# Unlike arrays and lists, elements (values) are accessed using keys"
   ]
  },
  {
   "cell_type": "code",
   "execution_count": 10,
   "id": "4136fb20",
   "metadata": {},
   "outputs": [
    {
     "data": {
      "text/plain": [
       "'One'"
      ]
     },
     "execution_count": 10,
     "metadata": {},
     "output_type": "execute_result"
    }
   ],
   "source": [
    "myDict[1]"
   ]
  },
  {
   "cell_type": "code",
   "execution_count": 14,
   "id": "4cb4343e",
   "metadata": {},
   "outputs": [],
   "source": [
    "# Dictionaries are unordered hence not necessary that elemets are stored in the\n",
    "# same manner as the dictionary is created"
   ]
  },
  {
   "cell_type": "code",
   "execution_count": 15,
   "id": "f5bfba18",
   "metadata": {},
   "outputs": [],
   "source": [
    "# Hash function associate key with index of an array (or other data bucket)\n",
    "# wherein values are stored\n",
    "# Example when 1 is accessed: an address (or index in the bucket) will be\n",
    "# returned by hash which contains the value \"One\""
   ]
  },
  {
   "cell_type": "code",
   "execution_count": null,
   "id": "cbe7b011",
   "metadata": {},
   "outputs": [],
   "source": []
  },
  {
   "cell_type": "code",
   "execution_count": 16,
   "id": "f9d81780",
   "metadata": {},
   "outputs": [],
   "source": [
    "# Update/add an element to the dictionary"
   ]
  },
  {
   "cell_type": "code",
   "execution_count": 17,
   "id": "ac9b6006",
   "metadata": {},
   "outputs": [],
   "source": [
    "myDict = {1:\"One\", 2:\"Two\", 3:\"Three\", 4:\"Four\", 5:\"Five\"}"
   ]
  },
  {
   "cell_type": "code",
   "execution_count": 20,
   "id": "38c99eaf",
   "metadata": {},
   "outputs": [],
   "source": [
    "myDict[1] = \"Fifty\""
   ]
  },
  {
   "cell_type": "code",
   "execution_count": 21,
   "id": "c665aeba",
   "metadata": {},
   "outputs": [
    {
     "data": {
      "text/plain": [
       "{1: 'Fifty', 2: 'Two', 3: 'Three', 4: 'Four', 5: 'Five'}"
      ]
     },
     "execution_count": 21,
     "metadata": {},
     "output_type": "execute_result"
    }
   ],
   "source": [
    "myDict"
   ]
  },
  {
   "cell_type": "code",
   "execution_count": 22,
   "id": "72f5c321",
   "metadata": {},
   "outputs": [],
   "source": [
    "myDict[6] = \"Six\""
   ]
  },
  {
   "cell_type": "code",
   "execution_count": 23,
   "id": "8c505d7e",
   "metadata": {},
   "outputs": [
    {
     "data": {
      "text/plain": [
       "{1: 'Fifty', 2: 'Two', 3: 'Three', 4: 'Four', 5: 'Five', 6: 'Six'}"
      ]
     },
     "execution_count": 23,
     "metadata": {},
     "output_type": "execute_result"
    }
   ],
   "source": [
    "myDict"
   ]
  },
  {
   "cell_type": "code",
   "execution_count": null,
   "id": "83d8cfd1",
   "metadata": {},
   "outputs": [],
   "source": []
  },
  {
   "cell_type": "code",
   "execution_count": 24,
   "id": "fea2ba44",
   "metadata": {},
   "outputs": [],
   "source": [
    "# Traversing through a dictionary"
   ]
  },
  {
   "cell_type": "code",
   "execution_count": 27,
   "id": "aa93e8ec",
   "metadata": {},
   "outputs": [
    {
     "name": "stdout",
     "output_type": "stream",
     "text": [
      "1 Fifty\n",
      "2 Two\n",
      "3 Three\n",
      "4 Four\n",
      "5 Five\n",
      "6 Six\n"
     ]
    }
   ],
   "source": [
    "for i in myDict:\n",
    "    print(i, myDict[i])"
   ]
  },
  {
   "cell_type": "code",
   "execution_count": 28,
   "id": "41a82171",
   "metadata": {},
   "outputs": [],
   "source": [
    "# Finding a value in a dictionary"
   ]
  },
  {
   "cell_type": "code",
   "execution_count": 29,
   "id": "8ad2607b",
   "metadata": {},
   "outputs": [
    {
     "name": "stdout",
     "output_type": "stream",
     "text": [
      "Found at key: 4\n"
     ]
    }
   ],
   "source": [
    "for i in myDict:\n",
    "    if myDict[i] == \"Four\":\n",
    "        print(\"Found at key: \"+str(i))"
   ]
  },
  {
   "cell_type": "code",
   "execution_count": 34,
   "id": "c9e2b509",
   "metadata": {},
   "outputs": [],
   "source": [
    "# Delete/Remove an element from a dictionary"
   ]
  },
  {
   "cell_type": "code",
   "execution_count": null,
   "id": "4c08bb0c",
   "metadata": {},
   "outputs": [],
   "source": [
    "#Pop"
   ]
  },
  {
   "cell_type": "code",
   "execution_count": 31,
   "id": "9edac136",
   "metadata": {},
   "outputs": [
    {
     "data": {
      "text/plain": [
       "{1: 'Fifty', 2: 'Two', 3: 'Three', 4: 'Four', 5: 'Five', 6: 'Six'}"
      ]
     },
     "execution_count": 31,
     "metadata": {},
     "output_type": "execute_result"
    }
   ],
   "source": [
    "myDict"
   ]
  },
  {
   "cell_type": "code",
   "execution_count": 32,
   "id": "6804706a",
   "metadata": {},
   "outputs": [
    {
     "data": {
      "text/plain": [
       "'Three'"
      ]
     },
     "execution_count": 32,
     "metadata": {},
     "output_type": "execute_result"
    }
   ],
   "source": [
    "myDict.pop(3)"
   ]
  },
  {
   "cell_type": "code",
   "execution_count": 33,
   "id": "f0ede86f",
   "metadata": {},
   "outputs": [
    {
     "data": {
      "text/plain": [
       "{1: 'Fifty', 2: 'Two', 4: 'Four', 5: 'Five', 6: 'Six'}"
      ]
     },
     "execution_count": 33,
     "metadata": {},
     "output_type": "execute_result"
    }
   ],
   "source": [
    "myDict"
   ]
  },
  {
   "cell_type": "code",
   "execution_count": 37,
   "id": "f9038e55",
   "metadata": {},
   "outputs": [],
   "source": [
    "# PopItem      Removes the last inserted element"
   ]
  },
  {
   "cell_type": "code",
   "execution_count": 38,
   "id": "c6e6f1f8",
   "metadata": {},
   "outputs": [
    {
     "data": {
      "text/plain": [
       "(5, 'Five')"
      ]
     },
     "execution_count": 38,
     "metadata": {},
     "output_type": "execute_result"
    }
   ],
   "source": [
    "myDict.popitem()"
   ]
  },
  {
   "cell_type": "code",
   "execution_count": 39,
   "id": "94bbc384",
   "metadata": {},
   "outputs": [],
   "source": [
    "myDict.clear()"
   ]
  },
  {
   "cell_type": "code",
   "execution_count": 42,
   "id": "6830a59a",
   "metadata": {},
   "outputs": [],
   "source": [
    "myDict = {1:\"One\", 2:\"Two\", 3:\"Three\", 4:\"Four\", 5:\"Five\"}"
   ]
  },
  {
   "cell_type": "code",
   "execution_count": 44,
   "id": "0341a0bf",
   "metadata": {},
   "outputs": [
    {
     "data": {
      "text/plain": [
       "{1: 'One', 2: 'Two', 3: 'Three', 4: 'Four', 5: 'Five'}"
      ]
     },
     "execution_count": 44,
     "metadata": {},
     "output_type": "execute_result"
    }
   ],
   "source": [
    "myDict"
   ]
  },
  {
   "cell_type": "code",
   "execution_count": 45,
   "id": "10b16ecc",
   "metadata": {},
   "outputs": [],
   "source": [
    "# using del keyword"
   ]
  },
  {
   "cell_type": "code",
   "execution_count": 48,
   "id": "09309b65",
   "metadata": {},
   "outputs": [],
   "source": [
    "del myDict[5]"
   ]
  },
  {
   "cell_type": "code",
   "execution_count": 49,
   "id": "60e0982c",
   "metadata": {},
   "outputs": [
    {
     "data": {
      "text/plain": [
       "{1: 'One', 2: 'Two', 3: 'Three', 4: 'Four'}"
      ]
     },
     "execution_count": 49,
     "metadata": {},
     "output_type": "execute_result"
    }
   ],
   "source": [
    "myDict"
   ]
  },
  {
   "cell_type": "code",
   "execution_count": null,
   "id": "e12cb988",
   "metadata": {},
   "outputs": [],
   "source": []
  },
  {
   "cell_type": "code",
   "execution_count": null,
   "id": "65aeec01",
   "metadata": {},
   "outputs": [],
   "source": []
  },
  {
   "cell_type": "code",
   "execution_count": 50,
   "id": "b31f4a88",
   "metadata": {},
   "outputs": [],
   "source": [
    "# Dictionary Methods"
   ]
  },
  {
   "cell_type": "code",
   "execution_count": 51,
   "id": "bb87546c",
   "metadata": {},
   "outputs": [],
   "source": [
    "# clear() -> myDict.clear()"
   ]
  },
  {
   "cell_type": "code",
   "execution_count": 52,
   "id": "1d181fb2",
   "metadata": {},
   "outputs": [],
   "source": [
    "# copy() -> returns a copy"
   ]
  },
  {
   "cell_type": "code",
   "execution_count": 53,
   "id": "120fe1db",
   "metadata": {},
   "outputs": [],
   "source": [
    "myDictDuplicate = myDict.copy()"
   ]
  },
  {
   "cell_type": "code",
   "execution_count": 54,
   "id": "26c7effe",
   "metadata": {},
   "outputs": [
    {
     "data": {
      "text/plain": [
       "{1: 'One', 2: 'Two', 3: 'Three', 4: 'Four'}"
      ]
     },
     "execution_count": 54,
     "metadata": {},
     "output_type": "execute_result"
    }
   ],
   "source": [
    "myDictDuplicate"
   ]
  },
  {
   "cell_type": "code",
   "execution_count": 55,
   "id": "e728dd04",
   "metadata": {},
   "outputs": [],
   "source": [
    "# fromkeys() to copy multiple values to another dictionary"
   ]
  },
  {
   "cell_type": "code",
   "execution_count": 62,
   "id": "16f1ed8c",
   "metadata": {},
   "outputs": [],
   "source": [
    "newDict = {}.fromkeys([1,2,3], 0)"
   ]
  },
  {
   "cell_type": "code",
   "execution_count": 63,
   "id": "9ce0359a",
   "metadata": {},
   "outputs": [
    {
     "data": {
      "text/plain": [
       "{1: 0, 2: 0, 3: 0}"
      ]
     },
     "execution_count": 63,
     "metadata": {},
     "output_type": "execute_result"
    }
   ],
   "source": [
    "newDict"
   ]
  },
  {
   "cell_type": "code",
   "execution_count": 64,
   "id": "ed76c7df",
   "metadata": {},
   "outputs": [],
   "source": [
    "# get() -> myDict.get(key, value) -> returns value of key else returns\n",
    "#                                    specified value if not found"
   ]
  },
  {
   "cell_type": "code",
   "execution_count": 66,
   "id": "881a225a",
   "metadata": {},
   "outputs": [
    {
     "data": {
      "text/plain": [
       "'One'"
      ]
     },
     "execution_count": 66,
     "metadata": {},
     "output_type": "execute_result"
    }
   ],
   "source": [
    "myDict.get(1, \"Not found\")"
   ]
  },
  {
   "cell_type": "code",
   "execution_count": 68,
   "id": "b95f1e72",
   "metadata": {},
   "outputs": [
    {
     "data": {
      "text/plain": [
       "'Not found'"
      ]
     },
     "execution_count": 68,
     "metadata": {},
     "output_type": "execute_result"
    }
   ],
   "source": [
    "myDict.get(27, \"Not found\")"
   ]
  },
  {
   "cell_type": "code",
   "execution_count": 69,
   "id": "de2d149f",
   "metadata": {},
   "outputs": [],
   "source": [
    "# items() -> myDict.items() -> returns key value tuple pair list"
   ]
  },
  {
   "cell_type": "code",
   "execution_count": 70,
   "id": "d206ca3e",
   "metadata": {},
   "outputs": [
    {
     "data": {
      "text/plain": [
       "dict_items([(1, 'One'), (2, 'Two'), (3, 'Three'), (4, 'Four')])"
      ]
     },
     "execution_count": 70,
     "metadata": {},
     "output_type": "execute_result"
    }
   ],
   "source": [
    "myDict.items()"
   ]
  },
  {
   "cell_type": "code",
   "execution_count": 71,
   "id": "c6cabcfe",
   "metadata": {},
   "outputs": [],
   "source": [
    "# keys() -> myDict.keys() -> displays all keys"
   ]
  },
  {
   "cell_type": "code",
   "execution_count": 74,
   "id": "8f222073",
   "metadata": {},
   "outputs": [
    {
     "data": {
      "text/plain": [
       "dict_keys([1, 2, 3, 4])"
      ]
     },
     "execution_count": 74,
     "metadata": {},
     "output_type": "execute_result"
    }
   ],
   "source": [
    "myDict.keys()"
   ]
  },
  {
   "cell_type": "code",
   "execution_count": 75,
   "id": "a325a817",
   "metadata": {},
   "outputs": [],
   "source": [
    "# popitem() -> removes last added key value pair"
   ]
  },
  {
   "cell_type": "code",
   "execution_count": 76,
   "id": "ce9d8c41",
   "metadata": {},
   "outputs": [],
   "source": [
    "# update() -> myDict.update(dict2) -> appends other dictionary"
   ]
  },
  {
   "cell_type": "code",
   "execution_count": 77,
   "id": "bb68a49a",
   "metadata": {},
   "outputs": [],
   "source": [
    "newDict = {5: \"Five\", 6: \"Six\", 7: \"Seven\"}"
   ]
  },
  {
   "cell_type": "code",
   "execution_count": 78,
   "id": "a310edf6",
   "metadata": {},
   "outputs": [],
   "source": [
    "myDict.update(newDict)"
   ]
  },
  {
   "cell_type": "code",
   "execution_count": 79,
   "id": "7ebe18b1",
   "metadata": {},
   "outputs": [
    {
     "data": {
      "text/plain": [
       "{1: 'One', 2: 'Two', 3: 'Three', 4: 'Four', 5: 'Five', 6: 'Six', 7: 'Seven'}"
      ]
     },
     "execution_count": 79,
     "metadata": {},
     "output_type": "execute_result"
    }
   ],
   "source": [
    "myDict"
   ]
  },
  {
   "cell_type": "code",
   "execution_count": null,
   "id": "45061829",
   "metadata": {},
   "outputs": [],
   "source": []
  },
  {
   "cell_type": "code",
   "execution_count": 83,
   "id": "6882b2b0",
   "metadata": {},
   "outputs": [],
   "source": [
    "# Operations that can be done with dictionaries"
   ]
  },
  {
   "cell_type": "code",
   "execution_count": 84,
   "id": "a633f2d3",
   "metadata": {},
   "outputs": [],
   "source": [
    "# in -> if key in dict"
   ]
  },
  {
   "cell_type": "code",
   "execution_count": 85,
   "id": "34d2f83a",
   "metadata": {},
   "outputs": [],
   "source": [
    "# len -> returns the length of dictionary"
   ]
  },
  {
   "cell_type": "code",
   "execution_count": null,
   "id": "cd49970c",
   "metadata": {},
   "outputs": [],
   "source": []
  }
 ],
 "metadata": {
  "kernelspec": {
   "display_name": "Python 3 (ipykernel)",
   "language": "python",
   "name": "python3"
  },
  "language_info": {
   "codemirror_mode": {
    "name": "ipython",
    "version": 3
   },
   "file_extension": ".py",
   "mimetype": "text/x-python",
   "name": "python",
   "nbconvert_exporter": "python",
   "pygments_lexer": "ipython3",
   "version": "3.9.7"
  }
 },
 "nbformat": 4,
 "nbformat_minor": 5
}
