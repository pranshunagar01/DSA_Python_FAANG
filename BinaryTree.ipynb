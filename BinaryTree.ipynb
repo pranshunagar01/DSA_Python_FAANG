{
 "cells": [
  {
   "cell_type": "code",
   "execution_count": null,
   "id": "71b0b55d",
   "metadata": {},
   "outputs": [],
   "source": [
    "# while replresenting binary tree as list:\n",
    "# Left child = cell[2x]\n",
    "# Right child  cell[2x+1]\n",
    "# here x is the root node (or cell)"
   ]
  },
  {
   "cell_type": "code",
   "execution_count": 6,
   "id": "324e96d0",
   "metadata": {},
   "outputs": [],
   "source": [
    "class BinaryTree:\n",
    "    def __init__(self, data):\n",
    "        self.data = data\n",
    "        self.left = None\n",
    "        self.right = None\n",
    "\n",
    "tree = BinaryTree(\"Drinks\")"
   ]
  },
  {
   "cell_type": "code",
   "execution_count": 7,
   "id": "b481251a",
   "metadata": {},
   "outputs": [],
   "source": [
    "# Traversal of a Binary Tree:\n",
    "\n",
    "# Predorder traversal -> First visit all the left nodes\n",
    "\n",
    "#       N1\n",
    "#     /    \\\n",
    "#   N2     N3\n",
    "#  /  \\   /  \\\n",
    "# N4 N5  N6  N7\n",
    "\n",
    "# The preorder traversal will look like:\n",
    "# N1 -> N2 -> N4 -> N5 -> N3 -> N6 -> N7"
   ]
  },
  {
   "cell_type": "code",
   "execution_count": 8,
   "id": "be5ab57f",
   "metadata": {},
   "outputs": [],
   "source": [
    "LTree = BinaryTree(\"Hot\")\n",
    "RTree = BinaryTree(\"Child\")"
   ]
  },
  {
   "cell_type": "code",
   "execution_count": 9,
   "id": "a89af03d",
   "metadata": {},
   "outputs": [],
   "source": [
    "tree.left = LTree\n",
    "tree.right = RTree"
   ]
  },
  {
   "cell_type": "code",
   "execution_count": 10,
   "id": "6517cd20",
   "metadata": {},
   "outputs": [],
   "source": [
    "# PreOrder Traversal :-"
   ]
  },
  {
   "cell_type": "code",
   "execution_count": 13,
   "id": "49b9d78e",
   "metadata": {},
   "outputs": [],
   "source": [
    "def preOrder(RootNode):\n",
    "    print(rootNode.data)"
   ]
  },
  {
   "cell_type": "code",
   "execution_count": null,
   "id": "0bd633fa",
   "metadata": {},
   "outputs": [],
   "source": []
  }
 ],
 "metadata": {
  "kernelspec": {
   "display_name": "Python 3 (ipykernel)",
   "language": "python",
   "name": "python3"
  },
  "language_info": {
   "codemirror_mode": {
    "name": "ipython",
    "version": 3
   },
   "file_extension": ".py",
   "mimetype": "text/x-python",
   "name": "python",
   "nbconvert_exporter": "python",
   "pygments_lexer": "ipython3",
   "version": "3.9.7"
  }
 },
 "nbformat": 4,
 "nbformat_minor": 5
}
