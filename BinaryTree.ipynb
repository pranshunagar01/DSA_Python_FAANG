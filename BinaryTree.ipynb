{
 "cells": [
  {
   "cell_type": "code",
   "execution_count": 24,
   "id": "3bc58ca6",
   "metadata": {},
   "outputs": [],
   "source": [
    "# while replresenting binary tree as list:\n",
    "# Left child = cell[2x]\n",
    "# Right child  cell[2x+1]\n",
    "# here x is the root node (or cell)"
   ]
  },
  {
   "cell_type": "code",
   "execution_count": 25,
   "id": "c639ade9",
   "metadata": {},
   "outputs": [],
   "source": [
    "class BinaryTree:\n",
    "    def __init__(self, data):\n",
    "        self.data = data\n",
    "        self.left = None\n",
    "        self.right = None\n",
    "\n",
    "tree = BinaryTree(\"Drinks\")"
   ]
  },
  {
   "cell_type": "code",
   "execution_count": 26,
   "id": "3b1e04a0",
   "metadata": {},
   "outputs": [],
   "source": [
    "# Traversal of a Binary Tree:\n",
    "\n",
    "# Predorder traversal -> First visit all the left nodes\n",
    "\n",
    "#       N1\n",
    "#     /    \\\n",
    "#   N2     N3\n",
    "#  /  \\   /  \\\n",
    "# N4 N5  N6  N7\n",
    "\n",
    "# The preorder traversal will look like:\n",
    "# N1 -> N2 -> N4 -> N5 -> N3 -> N6 -> N7"
   ]
  },
  {
   "cell_type": "code",
   "execution_count": 27,
   "id": "0610d81f",
   "metadata": {},
   "outputs": [],
   "source": [
    "LTree = BinaryTree(\"Hot\")\n",
    "RTree = BinaryTree(\"Cold\")"
   ]
  },
  {
   "cell_type": "code",
   "execution_count": 28,
   "id": "29b74d96",
   "metadata": {},
   "outputs": [],
   "source": [
    "tree.left = LTree\n",
    "tree.right = RTree"
   ]
  },
  {
   "cell_type": "code",
   "execution_count": 29,
   "id": "c783af99",
   "metadata": {},
   "outputs": [],
   "source": [
    "# PreOrder Traversal :-"
   ]
  },
  {
   "cell_type": "code",
   "execution_count": 30,
   "id": "c171acee",
   "metadata": {},
   "outputs": [],
   "source": [
    "def preOrder(RootNode):\n",
    "    if not RootNode:\n",
    "        return\n",
    "    print(RootNode.data)\n",
    "    preOrder(RootNode.left)\n",
    "    preOrder(RootNode.right)"
   ]
  },
  {
   "cell_type": "code",
   "execution_count": 31,
   "id": "622e2c9c",
   "metadata": {},
   "outputs": [
    {
     "name": "stdout",
     "output_type": "stream",
     "text": [
      "Drinks\n",
      "Hot\n",
      "Cold\n"
     ]
    }
   ],
   "source": [
    "preOrder(tree)"
   ]
  },
  {
   "cell_type": "code",
   "execution_count": 32,
   "id": "acc6971b",
   "metadata": {},
   "outputs": [],
   "source": [
    "# Inorder traversal of Binary tree: Left Subtree -> Root Node -> Right Subtree\n",
    "\n",
    "#       N1\n",
    "#     /    \\\n",
    "#   N2     N3\n",
    "#  /  \\   /  \\\n",
    "# N4 N5  N6  N7\n",
    "\n",
    "# The inorder traversal will look like:\n",
    "# N4 -> N2 -> N5 -> N1 -> N6 -> N3 -> N7"
   ]
  },
  {
   "cell_type": "code",
   "execution_count": 33,
   "id": "483e4a6d",
   "metadata": {},
   "outputs": [],
   "source": [
    "def InOrder(rootNode):\n",
    "    if not rootNode:\n",
    "        return\n",
    "    InOrder(rootNode.left)\n",
    "    print(rootNode.data)\n",
    "    InOrder(rootNode.right)"
   ]
  },
  {
   "cell_type": "code",
   "execution_count": 34,
   "id": "46ab9c76",
   "metadata": {},
   "outputs": [
    {
     "name": "stdout",
     "output_type": "stream",
     "text": [
      "Hot\n",
      "Drinks\n",
      "Cold\n"
     ]
    }
   ],
   "source": [
    "InOrder(tree)"
   ]
  },
  {
   "cell_type": "code",
   "execution_count": 35,
   "id": "a9e93cd4",
   "metadata": {},
   "outputs": [],
   "source": [
    "# Postorder traversal of Binary tree: Left Subtree-> Right Subtree -> Root Node\n",
    "\n",
    "#       N1\n",
    "#     /    \\\n",
    "#   N2     N3\n",
    "#  /  \\   /  \\\n",
    "# N4 N5  N6  N7\n",
    "\n",
    "# The postorder traversal will look like:\n",
    "# N4 -> N5 -> N2 -> N6 -> N7 -> N3 -> N1"
   ]
  },
  {
   "cell_type": "code",
   "execution_count": 36,
   "id": "cb52faf9",
   "metadata": {},
   "outputs": [],
   "source": [
    "def postOrder(rootNode):\n",
    "    if not rootNode:\n",
    "        return\n",
    "    postOrder(rootNode.left)\n",
    "    postOrder(rootNode.right)\n",
    "    print(rootNode.data)"
   ]
  },
  {
   "cell_type": "code",
   "execution_count": 37,
   "id": "f2568a3a",
   "metadata": {},
   "outputs": [
    {
     "name": "stdout",
     "output_type": "stream",
     "text": [
      "Hot\n",
      "Cold\n",
      "Drinks\n"
     ]
    }
   ],
   "source": [
    "postOrder(tree)"
   ]
  },
  {
   "cell_type": "code",
   "execution_count": 64,
   "id": "5f036ab6",
   "metadata": {},
   "outputs": [],
   "source": [
    "# Levelorder traversal of Binary tree: Level by Level\n",
    "\n",
    "#       N1\n",
    "#     /    \\\n",
    "#   N2     N3\n",
    "#  /  \\   /  \\\n",
    "# N4 N5  N6  N7\n",
    "\n",
    "# The levelorder traversal will look like:\n",
    "# N1 -> N2 -> N3 -> N4 -> N5 -> N6 -> N7"
   ]
  }
 ],
 "metadata": {
  "kernelspec": {
   "display_name": "Python 3 (ipykernel)",
   "language": "python",
   "name": "python3"
  },
  "language_info": {
   "codemirror_mode": {
    "name": "ipython",
    "version": 3
   },
   "file_extension": ".py",
   "mimetype": "text/x-python",
   "name": "python",
   "nbconvert_exporter": "python",
   "pygments_lexer": "ipython3",
   "version": "3.9.7"
  }
 },
 "nbformat": 4,
 "nbformat_minor": 5
}
