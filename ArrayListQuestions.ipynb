{
 "cells": [
  {
   "cell_type": "code",
   "execution_count": null,
   "id": "548fd61e",
   "metadata": {},
   "outputs": [],
   "source": [
    "# Find missing number in an array from 1 to 100"
   ]
  },
  {
   "cell_type": "code",
   "execution_count": 14,
   "id": "5736f2b6",
   "metadata": {},
   "outputs": [],
   "source": [
    "def findMissingNumber(arr):\n",
    "    i = 1\n",
    "    for j in arr:\n",
    "        if i != j:\n",
    "            print(i)\n",
    "            break\n",
    "        i+=1"
   ]
  },
  {
   "cell_type": "code",
   "execution_count": 15,
   "id": "2f045ce8",
   "metadata": {},
   "outputs": [],
   "source": [
    "arr1 = []\n",
    "for i in range(1, 101):\n",
    "    arr1.append(i)"
   ]
  },
  {
   "cell_type": "code",
   "execution_count": 16,
   "id": "eb0d56d1",
   "metadata": {},
   "outputs": [],
   "source": [
    "arr1.remove(48)"
   ]
  },
  {
   "cell_type": "code",
   "execution_count": 17,
   "id": "cd899562",
   "metadata": {},
   "outputs": [
    {
     "name": "stdout",
     "output_type": "stream",
     "text": [
      "48\n"
     ]
    }
   ],
   "source": [
    "findMissingNumber(arr1)"
   ]
  },
  {
   "cell_type": "code",
   "execution_count": 18,
   "id": "dea63767",
   "metadata": {},
   "outputs": [],
   "source": [
    "# Another Method"
   ]
  },
  {
   "cell_type": "code",
   "execution_count": 19,
   "id": "228339f6",
   "metadata": {},
   "outputs": [],
   "source": [
    "Sum = 100*101/2"
   ]
  },
  {
   "cell_type": "code",
   "execution_count": 24,
   "id": "5f944f01",
   "metadata": {},
   "outputs": [],
   "source": [
    "def findMissingNumber1(arr):\n",
    "    print(int(Sum-sum(arr)))"
   ]
  },
  {
   "cell_type": "code",
   "execution_count": 25,
   "id": "8fa3160d",
   "metadata": {},
   "outputs": [
    {
     "name": "stdout",
     "output_type": "stream",
     "text": [
      "48\n"
     ]
    }
   ],
   "source": [
    "findMissingNumber1(arr1)"
   ]
  },
  {
   "cell_type": "code",
   "execution_count": null,
   "id": "01348b47",
   "metadata": {},
   "outputs": [],
   "source": []
  },
  {
   "cell_type": "code",
   "execution_count": 26,
   "id": "4cb6f98e",
   "metadata": {},
   "outputs": [],
   "source": [
    "# Find all pairs of integers whose sum is equal to a given number"
   ]
  },
  {
   "cell_type": "code",
   "execution_count": 68,
   "id": "b5564217",
   "metadata": {},
   "outputs": [],
   "source": [
    "import numpy as np"
   ]
  },
  {
   "cell_type": "code",
   "execution_count": 69,
   "id": "07582d0a",
   "metadata": {},
   "outputs": [],
   "source": [
    "arr1 = np.array([1,2,3,4,5,6,7,8,9])"
   ]
  },
  {
   "cell_type": "code",
   "execution_count": 59,
   "id": "4db14a22",
   "metadata": {},
   "outputs": [],
   "source": [
    "# Simple but worst solution"
   ]
  },
  {
   "cell_type": "code",
   "execution_count": 70,
   "id": "9c24af49",
   "metadata": {},
   "outputs": [],
   "source": [
    "def findSumPair(arr1, sum):\n",
    "    for i in range(len(arr1)):\n",
    "        for j in range(i+1, len(arr1)):\n",
    "            if arr1[i]+arr1[j] == sum:\n",
    "                print(\"(\"+str(arr1[i])+\", \"+str(arr1[j])+\")\")"
   ]
  },
  {
   "cell_type": "code",
   "execution_count": 71,
   "id": "fbc0b189",
   "metadata": {},
   "outputs": [
    {
     "name": "stdout",
     "output_type": "stream",
     "text": [
      "(1, 7)\n",
      "(2, 6)\n",
      "(3, 5)\n"
     ]
    }
   ],
   "source": [
    "findSumPair(arr1, 8)"
   ]
  },
  {
   "cell_type": "code",
   "execution_count": 72,
   "id": "e1610473",
   "metadata": {},
   "outputs": [],
   "source": [
    "# A better solution"
   ]
  },
  {
   "cell_type": "code",
   "execution_count": 75,
   "id": "4cd36b12",
   "metadata": {},
   "outputs": [],
   "source": [
    "def findSumPair1(arr1, sum):\n",
    "    arr1 = np.sort(arr1)\n",
    "    int1 = 0\n",
    "    int2 = len(arr1)-1\n",
    "    for i in range(int(len(arr1)/2)+1):\n",
    "        if arr1[int1]+arr1[int2] == sum:\n",
    "            print(\"(\"+str(arr1[int1])+\", \"+str(arr1[int2])+\")\")\n",
    "            int2 -=1\n",
    "            int1 +=1\n",
    "        elif arr1[int1]+arr1[int2] > sum:\n",
    "            int2 -=1\n",
    "        elif arr1[int1]+arr1[int2] < sum:\n",
    "            int1 +=1\n",
    "\n",
    "    "
   ]
  },
  {
   "cell_type": "code",
   "execution_count": 76,
   "id": "fe7909d5",
   "metadata": {},
   "outputs": [
    {
     "name": "stdout",
     "output_type": "stream",
     "text": [
      "(1, 7)\n",
      "(2, 6)\n",
      "(3, 5)\n"
     ]
    }
   ],
   "source": [
    "findSumPair1(arr1, 8)"
   ]
  },
  {
   "cell_type": "code",
   "execution_count": 77,
   "id": "3a5386a7",
   "metadata": {},
   "outputs": [
    {
     "data": {
      "text/plain": [
       "array([1, 2, 3, 4, 5, 6, 7, 8, 9])"
      ]
     },
     "execution_count": 77,
     "metadata": {},
     "output_type": "execute_result"
    }
   ],
   "source": [
    "arr1"
   ]
  },
  {
   "cell_type": "code",
   "execution_count": 78,
   "id": "5bde0d1b",
   "metadata": {},
   "outputs": [],
   "source": [
    "# Question 3 : Check if a number is present in an array"
   ]
  },
  {
   "cell_type": "code",
   "execution_count": 79,
   "id": "b688b2fe",
   "metadata": {},
   "outputs": [],
   "source": [
    "arr2 = np.array([5,4,3,2,4,6,67,6,4,3,2])"
   ]
  },
  {
   "cell_type": "code",
   "execution_count": 80,
   "id": "5380ebf1",
   "metadata": {},
   "outputs": [],
   "source": [
    "# Easiest but worst solution : O(N)"
   ]
  },
  {
   "cell_type": "code",
   "execution_count": 83,
   "id": "c211001c",
   "metadata": {},
   "outputs": [],
   "source": [
    "def findNumber(arr, num):\n",
    "    for i in range(len(arr)):\n",
    "        if arr[i] == num:\n",
    "            print(i)"
   ]
  },
  {
   "cell_type": "code",
   "execution_count": 85,
   "id": "bda8d878",
   "metadata": {},
   "outputs": [
    {
     "name": "stdout",
     "output_type": "stream",
     "text": [
      "5\n",
      "7\n"
     ]
    }
   ],
   "source": [
    "findNumber(arr2, 6)"
   ]
  },
  {
   "cell_type": "code",
   "execution_count": 86,
   "id": "3c6f4ffa",
   "metadata": {},
   "outputs": [],
   "source": [
    "# A better solution: O(logN)"
   ]
  },
  {
   "cell_type": "code",
   "execution_count": 99,
   "id": "67fb142e",
   "metadata": {},
   "outputs": [],
   "source": [
    "def findNumber1(arr, num):\n",
    "    arr = np.sort(arr)\n",
    "    start = 0\n",
    "    end = len(arr1)-1\n",
    "    mid = int((start+end)/2)\n",
    "    while(start != end):\n",
    "        if arr1[mid] == num:\n",
    "            print(\"Found at {}\".format(mid))\n",
    "            break\n",
    "        elif arr[mid] > num:\n",
    "            end = mid-1\n",
    "            mid = int((start+end)/2)\n",
    "        elif arr[mid] < num:\n",
    "            start = mid+1\n",
    "            mid = int((start+end)/2)\n",
    "        "
   ]
  },
  {
   "cell_type": "code",
   "execution_count": 101,
   "id": "90a3e83d",
   "metadata": {},
   "outputs": [],
   "source": [
    "findNumber1(arr2,6)"
   ]
  },
  {
   "cell_type": "code",
   "execution_count": null,
   "id": "34c84247",
   "metadata": {},
   "outputs": [],
   "source": [
    "# Note: The above solution is not working. Improve and make changes in it"
   ]
  },
  {
   "cell_type": "code",
   "execution_count": 102,
   "id": "cf9344b9",
   "metadata": {},
   "outputs": [],
   "source": [
    "# Question 4"
   ]
  },
  {
   "cell_type": "code",
   "execution_count": 103,
   "id": "5af03e60",
   "metadata": {},
   "outputs": [],
   "source": [
    "# Find maximum product of two integers in an array"
   ]
  },
  {
   "cell_type": "code",
   "execution_count": 104,
   "id": "a177a590",
   "metadata": {},
   "outputs": [],
   "source": [
    "def maxProduct(arr):\n",
    "    product =1\n",
    "    for i in range(len(arr)):\n",
    "        for j in range(i+1, len(arr)):\n",
    "            if arr[i]*arr[j] > product:\n",
    "                product = arr[i]*arr[j]\n",
    "    return product"
   ]
  },
  {
   "cell_type": "code",
   "execution_count": 105,
   "id": "31372e66",
   "metadata": {},
   "outputs": [],
   "source": [
    "arr = np.array([1,2,3,4,5,6,7])"
   ]
  },
  {
   "cell_type": "code",
   "execution_count": 106,
   "id": "45b70983",
   "metadata": {},
   "outputs": [
    {
     "name": "stdout",
     "output_type": "stream",
     "text": [
      "42\n"
     ]
    }
   ],
   "source": [
    "print(maxProduct(arr))"
   ]
  },
  {
   "cell_type": "code",
   "execution_count": 108,
   "id": "401e04a4",
   "metadata": {},
   "outputs": [],
   "source": [
    "# A better Solution : Yet to do"
   ]
  },
  {
   "cell_type": "code",
   "execution_count": 109,
   "id": "323c3faa",
   "metadata": {},
   "outputs": [],
   "source": [
    "# Question: 5 Find if a number is unique in an array:\n",
    "# Simple"
   ]
  },
  {
   "cell_type": "code",
   "execution_count": 113,
   "id": "9e421245",
   "metadata": {},
   "outputs": [
    {
     "name": "stdout",
     "output_type": "stream",
     "text": [
      "True\n"
     ]
    }
   ],
   "source": [
    "# Question : 6 Permutation\n",
    "list1 = ['H', 'e', 'l', 'l', 'o']\n",
    "list2 = ['e', 'H', 'l', 'o', 'l']\n",
    "flag = 0\n",
    "for i in list1:\n",
    "    if i not in list1:\n",
    "        flag = 1\n",
    "for i in list2:\n",
    "    if i not in list1:\n",
    "        flag = 1\n",
    "if flag == 1:\n",
    "    print(False)\n",
    "else:\n",
    "    print(True)"
   ]
  },
  {
   "cell_type": "code",
   "execution_count": 158,
   "id": "b28dff94",
   "metadata": {},
   "outputs": [],
   "source": [
    "matrix1 = np.array([[0,1,2,3], [4,5,6,7], [8,9,10,11], [12,13,14,15]])"
   ]
  },
  {
   "cell_type": "code",
   "execution_count": 159,
   "id": "9fb076b6",
   "metadata": {},
   "outputs": [
    {
     "data": {
      "text/plain": [
       "array([[ 0,  1,  2,  3],\n",
       "       [ 4,  5,  6,  7],\n",
       "       [ 8,  9, 10, 11],\n",
       "       [12, 13, 14, 15]])"
      ]
     },
     "execution_count": 159,
     "metadata": {},
     "output_type": "execute_result"
    }
   ],
   "source": [
    "matrix1"
   ]
  },
  {
   "cell_type": "code",
   "execution_count": 160,
   "id": "29c8ed72",
   "metadata": {},
   "outputs": [],
   "source": [
    "a = 0\n",
    "b = len(matrix1[0])"
   ]
  },
  {
   "cell_type": "code",
   "execution_count": null,
   "id": "c21c9070",
   "metadata": {},
   "outputs": [],
   "source": [
    "while(a < b):\n",
    "    temp = matrix[0][3]\n",
    "    matrix[0][3] = matrix[0][0]\n",
    "    \n",
    "    temp1 = matrix"
   ]
  }
 ],
 "metadata": {
  "kernelspec": {
   "display_name": "Python 3 (ipykernel)",
   "language": "python",
   "name": "python3"
  },
  "language_info": {
   "codemirror_mode": {
    "name": "ipython",
    "version": 3
   },
   "file_extension": ".py",
   "mimetype": "text/x-python",
   "name": "python",
   "nbconvert_exporter": "python",
   "pygments_lexer": "ipython3",
   "version": "3.9.7"
  }
 },
 "nbformat": 4,
 "nbformat_minor": 5
}
