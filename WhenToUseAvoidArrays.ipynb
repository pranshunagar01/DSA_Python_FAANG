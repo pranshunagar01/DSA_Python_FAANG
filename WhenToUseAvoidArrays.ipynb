{
 "cells": [
  {
   "cell_type": "code",
   "execution_count": 6,
   "id": "6c19a277",
   "metadata": {},
   "outputs": [],
   "source": [
    "# When to Use"
   ]
  },
  {
   "cell_type": "code",
   "execution_count": 7,
   "id": "5f4f3a05",
   "metadata": {},
   "outputs": [],
   "source": [
    "# While storing multiple variables of same datatype"
   ]
  },
  {
   "cell_type": "code",
   "execution_count": 8,
   "id": "f5d4fafe",
   "metadata": {},
   "outputs": [],
   "source": [
    "# Randomly accessing any variable with constant time complexity"
   ]
  },
  {
   "cell_type": "code",
   "execution_count": null,
   "id": "c861d7aa",
   "metadata": {},
   "outputs": [],
   "source": []
  },
  {
   "cell_type": "code",
   "execution_count": 9,
   "id": "73678d54",
   "metadata": {},
   "outputs": [],
   "source": [
    "# When to avoid"
   ]
  },
  {
   "cell_type": "code",
   "execution_count": 10,
   "id": "6f5251d9",
   "metadata": {},
   "outputs": [],
   "source": [
    "# When different datatypes are required"
   ]
  },
  {
   "cell_type": "code",
   "execution_count": 11,
   "id": "ac5a1ee6",
   "metadata": {},
   "outputs": [],
   "source": [
    "# When we dont want to reserve memory"
   ]
  }
 ],
 "metadata": {
  "kernelspec": {
   "display_name": "Python 3 (ipykernel)",
   "language": "python",
   "name": "python3"
  },
  "language_info": {
   "codemirror_mode": {
    "name": "ipython",
    "version": 3
   },
   "file_extension": ".py",
   "mimetype": "text/x-python",
   "name": "python",
   "nbconvert_exporter": "python",
   "pygments_lexer": "ipython3",
   "version": "3.9.7"
  }
 },
 "nbformat": 4,
 "nbformat_minor": 5
}
