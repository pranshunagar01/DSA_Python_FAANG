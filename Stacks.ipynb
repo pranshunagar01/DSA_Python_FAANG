{
 "cells": [
  {
   "cell_type": "code",
   "execution_count": 1,
   "id": "367c05f8",
   "metadata": {},
   "outputs": [],
   "source": [
    "# Collection that follows last-in, first-out (LIFO) principle"
   ]
  },
  {
   "cell_type": "code",
   "execution_count": 2,
   "id": "3a2942f0",
   "metadata": {},
   "outputs": [],
   "source": [
    "# Supports two methods .push() and .pop()"
   ]
  },
  {
   "cell_type": "code",
   "execution_count": null,
   "id": "d8a7d839",
   "metadata": {},
   "outputs": [],
   "source": []
  }
 ],
 "metadata": {
  "kernelspec": {
   "display_name": "Python 3 (ipykernel)",
   "language": "python",
   "name": "python3"
  },
  "language_info": {
   "codemirror_mode": {
    "name": "ipython",
    "version": 3
   },
   "file_extension": ".py",
   "mimetype": "text/x-python",
   "name": "python",
   "nbconvert_exporter": "python",
   "pygments_lexer": "ipython3",
   "version": "3.9.7"
  }
 },
 "nbformat": 4,
 "nbformat_minor": 5
}
