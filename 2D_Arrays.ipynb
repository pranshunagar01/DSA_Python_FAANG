{
 "cells": [
  {
   "cell_type": "code",
   "execution_count": 1,
   "id": "22b13736",
   "metadata": {},
   "outputs": [],
   "source": [
    "# Use numpy for 2d arrays"
   ]
  },
  {
   "cell_type": "code",
   "execution_count": 23,
   "id": "cfc32cd8",
   "metadata": {},
   "outputs": [],
   "source": [
    "import numpy as np"
   ]
  },
  {
   "cell_type": "code",
   "execution_count": 37,
   "id": "27af44ae",
   "metadata": {},
   "outputs": [],
   "source": [
    "arr1 = np.array([[1,2,3], [4,5,6], [7,8,9]])"
   ]
  },
  {
   "cell_type": "code",
   "execution_count": 34,
   "id": "2d8f6757",
   "metadata": {
    "scrolled": true
   },
   "outputs": [
    {
     "data": {
      "text/plain": [
       "array([[1, 2, 3],\n",
       "       [4, 5, 6],\n",
       "       [7, 8, 9]])"
      ]
     },
     "execution_count": 34,
     "metadata": {},
     "output_type": "execute_result"
    }
   ],
   "source": [
    "arr1"
   ]
  },
  {
   "cell_type": "code",
   "execution_count": null,
   "id": "9e327a6e",
   "metadata": {},
   "outputs": [],
   "source": [
    "# Inserting rows or columns"
   ]
  },
  {
   "cell_type": "code",
   "execution_count": 38,
   "id": "ad1ebbb0",
   "metadata": {},
   "outputs": [],
   "source": [
    "arr2 = np.insert(arr1, 1, [[10,11,12]], axis = 1)"
   ]
  },
  {
   "cell_type": "code",
   "execution_count": 39,
   "id": "d231807b",
   "metadata": {},
   "outputs": [],
   "source": [
    "# axis = 0 => Row                axis = 1 => Column"
   ]
  },
  {
   "cell_type": "code",
   "execution_count": 40,
   "id": "89792796",
   "metadata": {},
   "outputs": [
    {
     "data": {
      "text/plain": [
       "array([[ 1, 10,  2,  3],\n",
       "       [ 4, 11,  5,  6],\n",
       "       [ 7, 12,  8,  9]])"
      ]
     },
     "execution_count": 40,
     "metadata": {},
     "output_type": "execute_result"
    }
   ],
   "source": [
    "arr2"
   ]
  },
  {
   "cell_type": "code",
   "execution_count": 41,
   "id": "adbd9ff7",
   "metadata": {},
   "outputs": [],
   "source": [
    "arr3 = np.insert(arr2, 0, [[1,2,3,4]], axis = 0)"
   ]
  },
  {
   "cell_type": "code",
   "execution_count": 42,
   "id": "222f2568",
   "metadata": {
    "scrolled": true
   },
   "outputs": [
    {
     "data": {
      "text/plain": [
       "array([[ 1,  2,  3,  4],\n",
       "       [ 1, 10,  2,  3],\n",
       "       [ 4, 11,  5,  6],\n",
       "       [ 7, 12,  8,  9]])"
      ]
     },
     "execution_count": 42,
     "metadata": {},
     "output_type": "execute_result"
    }
   ],
   "source": [
    "arr3"
   ]
  },
  {
   "cell_type": "code",
   "execution_count": 46,
   "id": "3e2341a5",
   "metadata": {},
   "outputs": [],
   "source": [
    "# Append based on axis 0 or 1"
   ]
  },
  {
   "cell_type": "code",
   "execution_count": 49,
   "id": "b42c5cab",
   "metadata": {},
   "outputs": [],
   "source": [
    "arr4 = np.append(arr3, [[0,1,2,3]], axis = 0)"
   ]
  },
  {
   "cell_type": "code",
   "execution_count": 50,
   "id": "dd6c370e",
   "metadata": {
    "scrolled": true
   },
   "outputs": [
    {
     "data": {
      "text/plain": [
       "array([[ 1,  2,  3,  4],\n",
       "       [ 1, 10,  2,  3],\n",
       "       [ 4, 11,  5,  6],\n",
       "       [ 7, 12,  8,  9],\n",
       "       [ 0,  1,  2,  3]])"
      ]
     },
     "execution_count": 50,
     "metadata": {},
     "output_type": "execute_result"
    }
   ],
   "source": [
    "arr4"
   ]
  },
  {
   "cell_type": "code",
   "execution_count": 59,
   "id": "dc9244ee",
   "metadata": {
    "scrolled": true
   },
   "outputs": [
    {
     "data": {
      "text/plain": [
       "11"
      ]
     },
     "execution_count": 59,
     "metadata": {},
     "output_type": "execute_result"
    }
   ],
   "source": [
    "arr4[2][1]"
   ]
  },
  {
   "cell_type": "code",
   "execution_count": null,
   "id": "c014c876",
   "metadata": {},
   "outputs": [],
   "source": [
    "# Searching an element through traversal"
   ]
  },
  {
   "cell_type": "code",
   "execution_count": 63,
   "id": "2b12f910",
   "metadata": {},
   "outputs": [
    {
     "name": "stdout",
     "output_type": "stream",
     "text": [
      "Found at (3, 2)\n"
     ]
    }
   ],
   "source": [
    "a = 8\n",
    "for i in range(len(arr4)):\n",
    "    for j in range(len(arr4[i])):\n",
    "        if arr4[i][j] == a:\n",
    "            print(\"Found at (\"+ str(i)+\", \"+str(j)+\")\")"
   ]
  },
  {
   "cell_type": "code",
   "execution_count": 64,
   "id": "faf9be10",
   "metadata": {},
   "outputs": [],
   "source": [
    "# Deleting a row or column with a given index for the same "
   ]
  },
  {
   "cell_type": "code",
   "execution_count": 65,
   "id": "67097623",
   "metadata": {},
   "outputs": [
    {
     "data": {
      "text/plain": [
       "array([[ 1,  2,  3,  4],\n",
       "       [ 1, 10,  2,  3],\n",
       "       [ 4, 11,  5,  6],\n",
       "       [ 7, 12,  8,  9],\n",
       "       [ 0,  1,  2,  3]])"
      ]
     },
     "execution_count": 65,
     "metadata": {},
     "output_type": "execute_result"
    }
   ],
   "source": [
    "arr4"
   ]
  },
  {
   "cell_type": "code",
   "execution_count": 70,
   "id": "9a2fa595",
   "metadata": {},
   "outputs": [],
   "source": [
    "arr5 = np.delete(arr4, 0, axis = 0)"
   ]
  },
  {
   "cell_type": "code",
   "execution_count": 72,
   "id": "7d327e24",
   "metadata": {},
   "outputs": [
    {
     "data": {
      "text/plain": [
       "array([[ 1, 10,  2,  3],\n",
       "       [ 4, 11,  5,  6],\n",
       "       [ 7, 12,  8,  9],\n",
       "       [ 0,  1,  2,  3]])"
      ]
     },
     "execution_count": 72,
     "metadata": {},
     "output_type": "execute_result"
    }
   ],
   "source": [
    "arr5"
   ]
  },
  {
   "cell_type": "code",
   "execution_count": null,
   "id": "5b92f6cd",
   "metadata": {},
   "outputs": [],
   "source": []
  }
 ],
 "metadata": {
  "kernelspec": {
   "display_name": "Python 3 (ipykernel)",
   "language": "python",
   "name": "python3"
  },
  "language_info": {
   "codemirror_mode": {
    "name": "ipython",
    "version": 3
   },
   "file_extension": ".py",
   "mimetype": "text/x-python",
   "name": "python",
   "nbconvert_exporter": "python",
   "pygments_lexer": "ipython3",
   "version": "3.9.7"
  }
 },
 "nbformat": 4,
 "nbformat_minor": 5
}
