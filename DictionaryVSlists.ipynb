{
 "cells": [
  {
   "cell_type": "code",
   "execution_count": 1,
   "id": "31b7cedc",
   "metadata": {},
   "outputs": [],
   "source": [
    "#      Dicitonary                     List"
   ]
  },
  {
   "cell_type": "code",
   "execution_count": 2,
   "id": "f1a4cb88",
   "metadata": {},
   "outputs": [],
   "source": [
    "#     Unordered                    Ordered"
   ]
  },
  {
   "cell_type": "code",
   "execution_count": 3,
   "id": "aa5b0124",
   "metadata": {},
   "outputs": [],
   "source": [
    "#     Access via keys         Access via index"
   ]
  },
  {
   "cell_type": "code",
   "execution_count": 4,
   "id": "3e1b8f56",
   "metadata": {},
   "outputs": [],
   "source": [
    "#    key value pairs         collection of elements"
   ]
  },
  {
   "cell_type": "code",
   "execution_count": null,
   "id": "ae2c293a",
   "metadata": {},
   "outputs": [],
   "source": [
    "#    No duplicates            Duplicates allowed"
   ]
  }
 ],
 "metadata": {
  "kernelspec": {
   "display_name": "Python 3 (ipykernel)",
   "language": "python",
   "name": "python3"
  },
  "language_info": {
   "codemirror_mode": {
    "name": "ipython",
    "version": 3
   },
   "file_extension": ".py",
   "mimetype": "text/x-python",
   "name": "python",
   "nbconvert_exporter": "python",
   "pygments_lexer": "ipython3",
   "version": "3.9.7"
  }
 },
 "nbformat": 4,
 "nbformat_minor": 5
}
