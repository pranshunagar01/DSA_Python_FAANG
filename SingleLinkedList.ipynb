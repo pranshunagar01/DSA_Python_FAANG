{
 "cells": [
  {
   "cell_type": "code",
   "execution_count": 222,
   "id": "255beec2",
   "metadata": {},
   "outputs": [],
   "source": [
    "class SingleLinkedList:\n",
    "    def __init__(self):\n",
    "        self.head = None\n",
    "        self.tail = None\n",
    "    def insertFirst(self, value):\n",
    "        node = Node(value)\n",
    "        node.next = self.head\n",
    "        self.head = node\n",
    "        self.show()\n",
    "    def insertLast(self, value):\n",
    "        key = self.head\n",
    "        while(key.next != None):\n",
    "            key = key.next\n",
    "        node = Node(value)\n",
    "        key.next = node\n",
    "        node.next = None\n",
    "        self.tail = node\n",
    "        self.show()\n",
    "    def insertN(self, value, location):\n",
    "        key = self.head\n",
    "        for i in range(location-1):\n",
    "            key = key.next\n",
    "        node = Node(value)\n",
    "        node.next = key.next\n",
    "        key.next = node\n",
    "        self.show()\n",
    "    def deleteN(self, location):\n",
    "        key = self.head\n",
    "        for i in range(location-1):\n",
    "            key = key.next\n",
    "        key.next = key.next.next\n",
    "        self.show()\n",
    "    def show(self):\n",
    "        key = self.head\n",
    "        while(key != None):\n",
    "            print(key.value)\n",
    "            key = key.next\n",
    "        \n",
    "        \n",
    "class Node:\n",
    "    def __init__(self, value):\n",
    "        self.value = value\n",
    "        self.next = None\n",
    "        \n",
    "list = SingleLinkedList()\n",
    "node1 = Node(1)\n",
    "node2 = Node(2)"
   ]
  },
  {
   "cell_type": "code",
   "execution_count": 223,
   "id": "c78d85eb",
   "metadata": {},
   "outputs": [],
   "source": [
    "list.head = node1\n",
    "list.tail = node2\n",
    "list.head.next = node2"
   ]
  },
  {
   "cell_type": "code",
   "execution_count": 224,
   "id": "4b258bb6",
   "metadata": {},
   "outputs": [
    {
     "name": "stdout",
     "output_type": "stream",
     "text": [
      "0\n",
      "1\n",
      "2\n"
     ]
    }
   ],
   "source": [
    "list.insertFirst(0)"
   ]
  },
  {
   "cell_type": "code",
   "execution_count": 225,
   "id": "ad47fa9c",
   "metadata": {},
   "outputs": [
    {
     "name": "stdout",
     "output_type": "stream",
     "text": [
      "0\n",
      "1\n",
      "2\n",
      "3\n"
     ]
    }
   ],
   "source": [
    "list.insertLast(3)"
   ]
  },
  {
   "cell_type": "code",
   "execution_count": 226,
   "id": "a0edef8e",
   "metadata": {},
   "outputs": [
    {
     "name": "stdout",
     "output_type": "stream",
     "text": [
      "0\n",
      "1\n",
      "5\n",
      "2\n",
      "3\n"
     ]
    }
   ],
   "source": [
    "list.insertN(5, 2)"
   ]
  },
  {
   "cell_type": "code",
   "execution_count": 227,
   "id": "50cc09e7",
   "metadata": {},
   "outputs": [
    {
     "name": "stdout",
     "output_type": "stream",
     "text": [
      "0\n",
      "1\n",
      "2\n",
      "3\n"
     ]
    }
   ],
   "source": [
    "list.deleteN(2)"
   ]
  },
  {
   "cell_type": "code",
   "execution_count": null,
   "id": "0e7303c7",
   "metadata": {},
   "outputs": [],
   "source": []
  }
 ],
 "metadata": {
  "kernelspec": {
   "display_name": "Python 3 (ipykernel)",
   "language": "python",
   "name": "python3"
  },
  "language_info": {
   "codemirror_mode": {
    "name": "ipython",
    "version": 3
   },
   "file_extension": ".py",
   "mimetype": "text/x-python",
   "name": "python",
   "nbconvert_exporter": "python",
   "pygments_lexer": "ipython3",
   "version": "3.9.7"
  }
 },
 "nbformat": 4,
 "nbformat_minor": 5
}
